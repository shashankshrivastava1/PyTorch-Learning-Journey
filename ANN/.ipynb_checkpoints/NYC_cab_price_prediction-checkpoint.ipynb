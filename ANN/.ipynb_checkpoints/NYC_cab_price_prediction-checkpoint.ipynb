{
 "cells": [
  {
   "cell_type": "markdown",
   "id": "3c76561d",
   "metadata": {},
   "source": [
    "Perform following steps\n",
    "<ol>\n",
    "    <li> Perform Feature Engineering</li>\n",
    "    <ol>\n",
    "        <li> calculate the distance from give latitude and longitude</li>\n",
    "        <li> convert the pickup_datetime to date_time object</li>\n",
    "        <li> convert the date time to newyork time </li>\n",
    "        <li> get day of week, hour of the day, am/pm </li>\n",
    "        \n",
    "</ol>\n"
   ]
  },
  {
   "cell_type": "code",
   "execution_count": 2,
   "id": "28030f19",
   "metadata": {},
   "outputs": [],
   "source": [
    "import torch\n",
    "import torch.nn as nn\n",
    "\n",
    "import numpy as np\n",
    "import pandas as pd\n",
    "import matplotlib.pyplot as plt\n",
    "%matplotlib inline"
   ]
  },
  {
   "cell_type": "code",
   "execution_count": 3,
   "id": "5fccfdac",
   "metadata": {},
   "outputs": [],
   "source": [
    "import time"
   ]
  },
  {
   "cell_type": "code",
   "execution_count": 4,
   "id": "8609055e",
   "metadata": {},
   "outputs": [
    {
     "data": {
      "text/html": [
       "<div>\n",
       "<style scoped>\n",
       "    .dataframe tbody tr th:only-of-type {\n",
       "        vertical-align: middle;\n",
       "    }\n",
       "\n",
       "    .dataframe tbody tr th {\n",
       "        vertical-align: top;\n",
       "    }\n",
       "\n",
       "    .dataframe thead th {\n",
       "        text-align: right;\n",
       "    }\n",
       "</style>\n",
       "<table border=\"1\" class=\"dataframe\">\n",
       "  <thead>\n",
       "    <tr style=\"text-align: right;\">\n",
       "      <th></th>\n",
       "      <th>pickup_datetime</th>\n",
       "      <th>fare_amount</th>\n",
       "      <th>fare_class</th>\n",
       "      <th>pickup_longitude</th>\n",
       "      <th>pickup_latitude</th>\n",
       "      <th>dropoff_longitude</th>\n",
       "      <th>dropoff_latitude</th>\n",
       "      <th>passenger_count</th>\n",
       "    </tr>\n",
       "  </thead>\n",
       "  <tbody>\n",
       "    <tr>\n",
       "      <th>0</th>\n",
       "      <td>2010-04-19 08:17:56 UTC</td>\n",
       "      <td>6.5</td>\n",
       "      <td>0</td>\n",
       "      <td>-73.992365</td>\n",
       "      <td>40.730521</td>\n",
       "      <td>-73.975499</td>\n",
       "      <td>40.744746</td>\n",
       "      <td>1</td>\n",
       "    </tr>\n",
       "    <tr>\n",
       "      <th>1</th>\n",
       "      <td>2010-04-17 15:43:53 UTC</td>\n",
       "      <td>6.9</td>\n",
       "      <td>0</td>\n",
       "      <td>-73.990078</td>\n",
       "      <td>40.740558</td>\n",
       "      <td>-73.974232</td>\n",
       "      <td>40.744114</td>\n",
       "      <td>1</td>\n",
       "    </tr>\n",
       "    <tr>\n",
       "      <th>2</th>\n",
       "      <td>2010-04-17 11:23:26 UTC</td>\n",
       "      <td>10.1</td>\n",
       "      <td>1</td>\n",
       "      <td>-73.994149</td>\n",
       "      <td>40.751118</td>\n",
       "      <td>-73.960064</td>\n",
       "      <td>40.766235</td>\n",
       "      <td>2</td>\n",
       "    </tr>\n",
       "    <tr>\n",
       "      <th>3</th>\n",
       "      <td>2010-04-11 21:25:03 UTC</td>\n",
       "      <td>8.9</td>\n",
       "      <td>0</td>\n",
       "      <td>-73.990485</td>\n",
       "      <td>40.756422</td>\n",
       "      <td>-73.971205</td>\n",
       "      <td>40.748192</td>\n",
       "      <td>1</td>\n",
       "    </tr>\n",
       "    <tr>\n",
       "      <th>4</th>\n",
       "      <td>2010-04-17 02:19:01 UTC</td>\n",
       "      <td>19.7</td>\n",
       "      <td>1</td>\n",
       "      <td>-73.990976</td>\n",
       "      <td>40.734202</td>\n",
       "      <td>-73.905956</td>\n",
       "      <td>40.743115</td>\n",
       "      <td>1</td>\n",
       "    </tr>\n",
       "  </tbody>\n",
       "</table>\n",
       "</div>"
      ],
      "text/plain": [
       "           pickup_datetime  fare_amount  fare_class  pickup_longitude  \\\n",
       "0  2010-04-19 08:17:56 UTC          6.5           0        -73.992365   \n",
       "1  2010-04-17 15:43:53 UTC          6.9           0        -73.990078   \n",
       "2  2010-04-17 11:23:26 UTC         10.1           1        -73.994149   \n",
       "3  2010-04-11 21:25:03 UTC          8.9           0        -73.990485   \n",
       "4  2010-04-17 02:19:01 UTC         19.7           1        -73.990976   \n",
       "\n",
       "   pickup_latitude  dropoff_longitude  dropoff_latitude  passenger_count  \n",
       "0        40.730521         -73.975499         40.744746                1  \n",
       "1        40.740558         -73.974232         40.744114                1  \n",
       "2        40.751118         -73.960064         40.766235                2  \n",
       "3        40.756422         -73.971205         40.748192                1  \n",
       "4        40.734202         -73.905956         40.743115                1  "
      ]
     },
     "execution_count": 4,
     "metadata": {},
     "output_type": "execute_result"
    }
   ],
   "source": [
    "#took a very small section of data 120k rows from 5.5 millions rows\n",
    "\n",
    "df = pd.read_csv('../Data/NYCTaxiFares.csv')\n",
    "df.head()"
   ]
  },
  {
   "cell_type": "code",
   "execution_count": 5,
   "id": "08697faa",
   "metadata": {},
   "outputs": [],
   "source": [
    "# df[\"dropoff_longitude\"]"
   ]
  },
  {
   "cell_type": "markdown",
   "id": "a88ed78f",
   "metadata": {},
   "source": [
    "Calculate the Haversine Distance: istance on a sphere between two sets of GPS coordinates\n",
    "\n",
    "${\\displaystyle d=2r\\arcsin \\left({\\sqrt {\\sin ^{2}\\left({\\frac {\\varphi _{2}-\\varphi _{1}}{2}}\\right)+\\cos(\\varphi _{1})\\:\\cos(\\varphi _{2})\\:\\sin ^{2}\\left({\\frac {\\lambda _{2}-\\lambda _{1}}{2}}\\right)}}\\right)}$\n",
    "\n",
    "$\\varphi$ is latitude\n",
    "\n",
    "$\\lambda$ is longitude\n",
    "\n",
    "$r$ is the radius, here earth's radius that is appox 6371 km\n"
   ]
  },
  {
   "cell_type": "code",
   "execution_count": 6,
   "id": "32b671d4",
   "metadata": {},
   "outputs": [],
   "source": [
    "r = 6371"
   ]
  },
  {
   "cell_type": "code",
   "execution_count": 7,
   "id": "66c1ed7a",
   "metadata": {},
   "outputs": [
    {
     "name": "stdout",
     "output_type": "stream",
     "text": [
      "\n",
      "Duration: 11 seconds\n"
     ]
    }
   ],
   "source": [
    "##super slow version as the apply function runs over each row seperatly --8 sec!!!!\n",
    "def haversine_distance(df):\n",
    "    \n",
    "    phi2 = np.radians(df[\"dropoff_latitude\"])\n",
    "    phi1 = np.radians(df[\"pickup_latitude\"])\n",
    "    del_phi = np.radians(df[\"dropoff_latitude\"] - df[\"pickup_latitude\"])\n",
    "    del_lambda = np.radians(df[\"dropoff_longitude\"] - df[\"pickup_longitude\"])\n",
    "    \n",
    "    term1 = np.sin(del_phi/2)**2 + np.cos(phi1) * np.cos(phi2) \\\n",
    "            * np.sin(del_lambda /2)**2\n",
    "#     print(term1)\n",
    "    term2 = 2 * np.arctan2(np.sqrt(term1), np.sqrt(1-term1))\n",
    "    result = (r * term2)\n",
    "    return result\n",
    "    \n",
    "start_time = time.time()\n",
    "df[\"distance\"] = df.apply(haversine_distance,axis=1)\n",
    "df.head()\n",
    "print(f'\\nDuration: {time.time() - start_time:.0f} seconds')"
   ]
  },
  {
   "cell_type": "code",
   "execution_count": 8,
   "id": "8271527b",
   "metadata": {},
   "outputs": [
    {
     "name": "stdout",
     "output_type": "stream",
     "text": [
      "\n",
      "Duration: 0.0462369919 seconds\n"
     ]
    }
   ],
   "source": [
    "#super fast as it is doing matrix operations in numpy -> 0.02 seconds!! 400 times faster\n",
    "def haversine_distance(df,drop_lat,drop_long,pick_lat,pick_long):\n",
    "    \n",
    "    phi2 = np.radians(df[drop_lat])\n",
    "    phi1 = np.radians(df[pick_lat])\n",
    "    \n",
    "    del_phi = np.radians(df[drop_lat] - df[pick_lat])\n",
    "    \n",
    "    del_lambda = np.radians(df[drop_long] - df[pick_long])\n",
    "    \n",
    "    term1 = np.sin(del_phi/2)**2 + np.cos(phi1) * np.cos(phi2) \\\n",
    "            * np.sin(del_lambda /2)**2\n",
    "#     print(term1)\n",
    "    term2 = 2 * np.arctan2(np.sqrt(term1) , np.sqrt(1-term1))\n",
    "    result = (r * term2)\n",
    "    return result\n",
    "\n",
    "start_time = time.time()\n",
    "df[\"distance\"] = haversine_distance(df,\"dropoff_latitude\",\"dropoff_longitude\"\\\n",
    "                                    ,\"pickup_latitude\",\"pickup_longitude\")\n",
    "df.head()\n",
    "print(f'\\nDuration: {time.time() - start_time:.10f} seconds')"
   ]
  },
  {
   "cell_type": "code",
   "execution_count": 9,
   "id": "6cb0e299",
   "metadata": {},
   "outputs": [
    {
     "name": "stdout",
     "output_type": "stream",
     "text": [
      "<class 'pandas._libs.tslibs.timestamps.Timestamp'>\n"
     ]
    },
    {
     "data": {
      "text/html": [
       "<div>\n",
       "<style scoped>\n",
       "    .dataframe tbody tr th:only-of-type {\n",
       "        vertical-align: middle;\n",
       "    }\n",
       "\n",
       "    .dataframe tbody tr th {\n",
       "        vertical-align: top;\n",
       "    }\n",
       "\n",
       "    .dataframe thead th {\n",
       "        text-align: right;\n",
       "    }\n",
       "</style>\n",
       "<table border=\"1\" class=\"dataframe\">\n",
       "  <thead>\n",
       "    <tr style=\"text-align: right;\">\n",
       "      <th></th>\n",
       "      <th>pickup_datetime</th>\n",
       "      <th>fare_amount</th>\n",
       "      <th>fare_class</th>\n",
       "      <th>pickup_longitude</th>\n",
       "      <th>pickup_latitude</th>\n",
       "      <th>dropoff_longitude</th>\n",
       "      <th>dropoff_latitude</th>\n",
       "      <th>passenger_count</th>\n",
       "      <th>distance</th>\n",
       "      <th>nyc_datetime</th>\n",
       "    </tr>\n",
       "  </thead>\n",
       "  <tbody>\n",
       "    <tr>\n",
       "      <th>0</th>\n",
       "      <td>2010-04-19 08:17:56 UTC</td>\n",
       "      <td>6.5</td>\n",
       "      <td>0</td>\n",
       "      <td>-73.992365</td>\n",
       "      <td>40.730521</td>\n",
       "      <td>-73.975499</td>\n",
       "      <td>40.744746</td>\n",
       "      <td>1</td>\n",
       "      <td>2.126312</td>\n",
       "      <td>2010-04-19 04:17:56</td>\n",
       "    </tr>\n",
       "    <tr>\n",
       "      <th>1</th>\n",
       "      <td>2010-04-17 15:43:53 UTC</td>\n",
       "      <td>6.9</td>\n",
       "      <td>0</td>\n",
       "      <td>-73.990078</td>\n",
       "      <td>40.740558</td>\n",
       "      <td>-73.974232</td>\n",
       "      <td>40.744114</td>\n",
       "      <td>1</td>\n",
       "      <td>1.392307</td>\n",
       "      <td>2010-04-17 11:43:53</td>\n",
       "    </tr>\n",
       "    <tr>\n",
       "      <th>2</th>\n",
       "      <td>2010-04-17 11:23:26 UTC</td>\n",
       "      <td>10.1</td>\n",
       "      <td>1</td>\n",
       "      <td>-73.994149</td>\n",
       "      <td>40.751118</td>\n",
       "      <td>-73.960064</td>\n",
       "      <td>40.766235</td>\n",
       "      <td>2</td>\n",
       "      <td>3.326763</td>\n",
       "      <td>2010-04-17 07:23:26</td>\n",
       "    </tr>\n",
       "    <tr>\n",
       "      <th>3</th>\n",
       "      <td>2010-04-11 21:25:03 UTC</td>\n",
       "      <td>8.9</td>\n",
       "      <td>0</td>\n",
       "      <td>-73.990485</td>\n",
       "      <td>40.756422</td>\n",
       "      <td>-73.971205</td>\n",
       "      <td>40.748192</td>\n",
       "      <td>1</td>\n",
       "      <td>1.864129</td>\n",
       "      <td>2010-04-11 17:25:03</td>\n",
       "    </tr>\n",
       "    <tr>\n",
       "      <th>4</th>\n",
       "      <td>2010-04-17 02:19:01 UTC</td>\n",
       "      <td>19.7</td>\n",
       "      <td>1</td>\n",
       "      <td>-73.990976</td>\n",
       "      <td>40.734202</td>\n",
       "      <td>-73.905956</td>\n",
       "      <td>40.743115</td>\n",
       "      <td>1</td>\n",
       "      <td>7.231321</td>\n",
       "      <td>2010-04-16 22:19:01</td>\n",
       "    </tr>\n",
       "  </tbody>\n",
       "</table>\n",
       "</div>"
      ],
      "text/plain": [
       "           pickup_datetime  fare_amount  fare_class  pickup_longitude  \\\n",
       "0  2010-04-19 08:17:56 UTC          6.5           0        -73.992365   \n",
       "1  2010-04-17 15:43:53 UTC          6.9           0        -73.990078   \n",
       "2  2010-04-17 11:23:26 UTC         10.1           1        -73.994149   \n",
       "3  2010-04-11 21:25:03 UTC          8.9           0        -73.990485   \n",
       "4  2010-04-17 02:19:01 UTC         19.7           1        -73.990976   \n",
       "\n",
       "   pickup_latitude  dropoff_longitude  dropoff_latitude  passenger_count  \\\n",
       "0        40.730521         -73.975499         40.744746                1   \n",
       "1        40.740558         -73.974232         40.744114                1   \n",
       "2        40.751118         -73.960064         40.766235                2   \n",
       "3        40.756422         -73.971205         40.748192                1   \n",
       "4        40.734202         -73.905956         40.743115                1   \n",
       "\n",
       "   distance        nyc_datetime  \n",
       "0  2.126312 2010-04-19 04:17:56  \n",
       "1  1.392307 2010-04-17 11:43:53  \n",
       "2  3.326763 2010-04-17 07:23:26  \n",
       "3  1.864129 2010-04-11 17:25:03  \n",
       "4  7.231321 2010-04-16 22:19:01  "
      ]
     },
     "execution_count": 9,
     "metadata": {},
     "output_type": "execute_result"
    }
   ],
   "source": [
    "# convert the pickup_datetime to date_time object\n",
    "df[\"nyc_datetime\"] = pd.to_datetime(df['pickup_datetime'].str[:-3]) - pd.Timedelta(hours=4)\n",
    "print(type(df[\"nyc_datetime\"][0]))\n",
    "df.head()"
   ]
  },
  {
   "cell_type": "code",
   "execution_count": 10,
   "id": "9cbec333",
   "metadata": {},
   "outputs": [
    {
     "data": {
      "text/html": [
       "<div>\n",
       "<style scoped>\n",
       "    .dataframe tbody tr th:only-of-type {\n",
       "        vertical-align: middle;\n",
       "    }\n",
       "\n",
       "    .dataframe tbody tr th {\n",
       "        vertical-align: top;\n",
       "    }\n",
       "\n",
       "    .dataframe thead th {\n",
       "        text-align: right;\n",
       "    }\n",
       "</style>\n",
       "<table border=\"1\" class=\"dataframe\">\n",
       "  <thead>\n",
       "    <tr style=\"text-align: right;\">\n",
       "      <th></th>\n",
       "      <th>pickup_datetime</th>\n",
       "      <th>fare_amount</th>\n",
       "      <th>fare_class</th>\n",
       "      <th>pickup_longitude</th>\n",
       "      <th>pickup_latitude</th>\n",
       "      <th>dropoff_longitude</th>\n",
       "      <th>dropoff_latitude</th>\n",
       "      <th>passenger_count</th>\n",
       "      <th>distance</th>\n",
       "      <th>nyc_datetime</th>\n",
       "      <th>Hour</th>\n",
       "    </tr>\n",
       "  </thead>\n",
       "  <tbody>\n",
       "    <tr>\n",
       "      <th>0</th>\n",
       "      <td>2010-04-19 08:17:56 UTC</td>\n",
       "      <td>6.5</td>\n",
       "      <td>0</td>\n",
       "      <td>-73.992365</td>\n",
       "      <td>40.730521</td>\n",
       "      <td>-73.975499</td>\n",
       "      <td>40.744746</td>\n",
       "      <td>1</td>\n",
       "      <td>2.126312</td>\n",
       "      <td>2010-04-19 04:17:56</td>\n",
       "      <td>4</td>\n",
       "    </tr>\n",
       "    <tr>\n",
       "      <th>1</th>\n",
       "      <td>2010-04-17 15:43:53 UTC</td>\n",
       "      <td>6.9</td>\n",
       "      <td>0</td>\n",
       "      <td>-73.990078</td>\n",
       "      <td>40.740558</td>\n",
       "      <td>-73.974232</td>\n",
       "      <td>40.744114</td>\n",
       "      <td>1</td>\n",
       "      <td>1.392307</td>\n",
       "      <td>2010-04-17 11:43:53</td>\n",
       "      <td>11</td>\n",
       "    </tr>\n",
       "  </tbody>\n",
       "</table>\n",
       "</div>"
      ],
      "text/plain": [
       "           pickup_datetime  fare_amount  fare_class  pickup_longitude  \\\n",
       "0  2010-04-19 08:17:56 UTC          6.5           0        -73.992365   \n",
       "1  2010-04-17 15:43:53 UTC          6.9           0        -73.990078   \n",
       "\n",
       "   pickup_latitude  dropoff_longitude  dropoff_latitude  passenger_count  \\\n",
       "0        40.730521         -73.975499         40.744746                1   \n",
       "1        40.740558         -73.974232         40.744114                1   \n",
       "\n",
       "   distance        nyc_datetime  Hour  \n",
       "0  2.126312 2010-04-19 04:17:56     4  \n",
       "1  1.392307 2010-04-17 11:43:53    11  "
      ]
     },
     "execution_count": 10,
     "metadata": {},
     "output_type": "execute_result"
    }
   ],
   "source": [
    "#get hours\n",
    "df[\"Hour\"] = df[\"nyc_datetime\"].dt.hour\n",
    "df.head(2)"
   ]
  },
  {
   "cell_type": "code",
   "execution_count": 11,
   "id": "c2cdce3b",
   "metadata": {},
   "outputs": [
    {
     "data": {
      "text/html": [
       "<div>\n",
       "<style scoped>\n",
       "    .dataframe tbody tr th:only-of-type {\n",
       "        vertical-align: middle;\n",
       "    }\n",
       "\n",
       "    .dataframe tbody tr th {\n",
       "        vertical-align: top;\n",
       "    }\n",
       "\n",
       "    .dataframe thead th {\n",
       "        text-align: right;\n",
       "    }\n",
       "</style>\n",
       "<table border=\"1\" class=\"dataframe\">\n",
       "  <thead>\n",
       "    <tr style=\"text-align: right;\">\n",
       "      <th></th>\n",
       "      <th>pickup_datetime</th>\n",
       "      <th>fare_amount</th>\n",
       "      <th>fare_class</th>\n",
       "      <th>pickup_longitude</th>\n",
       "      <th>pickup_latitude</th>\n",
       "      <th>dropoff_longitude</th>\n",
       "      <th>dropoff_latitude</th>\n",
       "      <th>passenger_count</th>\n",
       "      <th>distance</th>\n",
       "      <th>nyc_datetime</th>\n",
       "      <th>Hour</th>\n",
       "      <th>AMorPM</th>\n",
       "    </tr>\n",
       "  </thead>\n",
       "  <tbody>\n",
       "    <tr>\n",
       "      <th>0</th>\n",
       "      <td>2010-04-19 08:17:56 UTC</td>\n",
       "      <td>6.5</td>\n",
       "      <td>0</td>\n",
       "      <td>-73.992365</td>\n",
       "      <td>40.730521</td>\n",
       "      <td>-73.975499</td>\n",
       "      <td>40.744746</td>\n",
       "      <td>1</td>\n",
       "      <td>2.126312</td>\n",
       "      <td>2010-04-19 04:17:56</td>\n",
       "      <td>4</td>\n",
       "      <td>am</td>\n",
       "    </tr>\n",
       "    <tr>\n",
       "      <th>1</th>\n",
       "      <td>2010-04-17 15:43:53 UTC</td>\n",
       "      <td>6.9</td>\n",
       "      <td>0</td>\n",
       "      <td>-73.990078</td>\n",
       "      <td>40.740558</td>\n",
       "      <td>-73.974232</td>\n",
       "      <td>40.744114</td>\n",
       "      <td>1</td>\n",
       "      <td>1.392307</td>\n",
       "      <td>2010-04-17 11:43:53</td>\n",
       "      <td>11</td>\n",
       "      <td>am</td>\n",
       "    </tr>\n",
       "    <tr>\n",
       "      <th>2</th>\n",
       "      <td>2010-04-17 11:23:26 UTC</td>\n",
       "      <td>10.1</td>\n",
       "      <td>1</td>\n",
       "      <td>-73.994149</td>\n",
       "      <td>40.751118</td>\n",
       "      <td>-73.960064</td>\n",
       "      <td>40.766235</td>\n",
       "      <td>2</td>\n",
       "      <td>3.326763</td>\n",
       "      <td>2010-04-17 07:23:26</td>\n",
       "      <td>7</td>\n",
       "      <td>am</td>\n",
       "    </tr>\n",
       "    <tr>\n",
       "      <th>3</th>\n",
       "      <td>2010-04-11 21:25:03 UTC</td>\n",
       "      <td>8.9</td>\n",
       "      <td>0</td>\n",
       "      <td>-73.990485</td>\n",
       "      <td>40.756422</td>\n",
       "      <td>-73.971205</td>\n",
       "      <td>40.748192</td>\n",
       "      <td>1</td>\n",
       "      <td>1.864129</td>\n",
       "      <td>2010-04-11 17:25:03</td>\n",
       "      <td>17</td>\n",
       "      <td>pm</td>\n",
       "    </tr>\n",
       "    <tr>\n",
       "      <th>4</th>\n",
       "      <td>2010-04-17 02:19:01 UTC</td>\n",
       "      <td>19.7</td>\n",
       "      <td>1</td>\n",
       "      <td>-73.990976</td>\n",
       "      <td>40.734202</td>\n",
       "      <td>-73.905956</td>\n",
       "      <td>40.743115</td>\n",
       "      <td>1</td>\n",
       "      <td>7.231321</td>\n",
       "      <td>2010-04-16 22:19:01</td>\n",
       "      <td>22</td>\n",
       "      <td>pm</td>\n",
       "    </tr>\n",
       "  </tbody>\n",
       "</table>\n",
       "</div>"
      ],
      "text/plain": [
       "           pickup_datetime  fare_amount  fare_class  pickup_longitude  \\\n",
       "0  2010-04-19 08:17:56 UTC          6.5           0        -73.992365   \n",
       "1  2010-04-17 15:43:53 UTC          6.9           0        -73.990078   \n",
       "2  2010-04-17 11:23:26 UTC         10.1           1        -73.994149   \n",
       "3  2010-04-11 21:25:03 UTC          8.9           0        -73.990485   \n",
       "4  2010-04-17 02:19:01 UTC         19.7           1        -73.990976   \n",
       "\n",
       "   pickup_latitude  dropoff_longitude  dropoff_latitude  passenger_count  \\\n",
       "0        40.730521         -73.975499         40.744746                1   \n",
       "1        40.740558         -73.974232         40.744114                1   \n",
       "2        40.751118         -73.960064         40.766235                2   \n",
       "3        40.756422         -73.971205         40.748192                1   \n",
       "4        40.734202         -73.905956         40.743115                1   \n",
       "\n",
       "   distance        nyc_datetime  Hour AMorPM  \n",
       "0  2.126312 2010-04-19 04:17:56     4     am  \n",
       "1  1.392307 2010-04-17 11:43:53    11     am  \n",
       "2  3.326763 2010-04-17 07:23:26     7     am  \n",
       "3  1.864129 2010-04-11 17:25:03    17     pm  \n",
       "4  7.231321 2010-04-16 22:19:01    22     pm  "
      ]
     },
     "execution_count": 11,
     "metadata": {},
     "output_type": "execute_result"
    }
   ],
   "source": [
    "#get the am am feature\n",
    "\n",
    "# df[\"AMorPM\"] = np.where(df[\"Hour\"]<12 ,\"am\", \"pm\")\n",
    "#both are same\n",
    "df[\"AMorPM\"] = df[\"nyc_datetime\"].dt.strftime(\"%p\").str.lower()\n",
    "df.head(5)"
   ]
  },
  {
   "cell_type": "code",
   "execution_count": 12,
   "id": "a075f6e0",
   "metadata": {},
   "outputs": [
    {
     "data": {
      "text/html": [
       "<div>\n",
       "<style scoped>\n",
       "    .dataframe tbody tr th:only-of-type {\n",
       "        vertical-align: middle;\n",
       "    }\n",
       "\n",
       "    .dataframe tbody tr th {\n",
       "        vertical-align: top;\n",
       "    }\n",
       "\n",
       "    .dataframe thead th {\n",
       "        text-align: right;\n",
       "    }\n",
       "</style>\n",
       "<table border=\"1\" class=\"dataframe\">\n",
       "  <thead>\n",
       "    <tr style=\"text-align: right;\">\n",
       "      <th></th>\n",
       "      <th>pickup_datetime</th>\n",
       "      <th>fare_amount</th>\n",
       "      <th>fare_class</th>\n",
       "      <th>pickup_longitude</th>\n",
       "      <th>pickup_latitude</th>\n",
       "      <th>dropoff_longitude</th>\n",
       "      <th>dropoff_latitude</th>\n",
       "      <th>passenger_count</th>\n",
       "      <th>distance</th>\n",
       "      <th>nyc_datetime</th>\n",
       "      <th>Hour</th>\n",
       "      <th>AMorPM</th>\n",
       "      <th>Weekday</th>\n",
       "    </tr>\n",
       "  </thead>\n",
       "  <tbody>\n",
       "    <tr>\n",
       "      <th>0</th>\n",
       "      <td>2010-04-19 08:17:56 UTC</td>\n",
       "      <td>6.5</td>\n",
       "      <td>0</td>\n",
       "      <td>-73.992365</td>\n",
       "      <td>40.730521</td>\n",
       "      <td>-73.975499</td>\n",
       "      <td>40.744746</td>\n",
       "      <td>1</td>\n",
       "      <td>2.126312</td>\n",
       "      <td>2010-04-19 04:17:56</td>\n",
       "      <td>4</td>\n",
       "      <td>am</td>\n",
       "      <td>Mon</td>\n",
       "    </tr>\n",
       "    <tr>\n",
       "      <th>1</th>\n",
       "      <td>2010-04-17 15:43:53 UTC</td>\n",
       "      <td>6.9</td>\n",
       "      <td>0</td>\n",
       "      <td>-73.990078</td>\n",
       "      <td>40.740558</td>\n",
       "      <td>-73.974232</td>\n",
       "      <td>40.744114</td>\n",
       "      <td>1</td>\n",
       "      <td>1.392307</td>\n",
       "      <td>2010-04-17 11:43:53</td>\n",
       "      <td>11</td>\n",
       "      <td>am</td>\n",
       "      <td>Sat</td>\n",
       "    </tr>\n",
       "    <tr>\n",
       "      <th>2</th>\n",
       "      <td>2010-04-17 11:23:26 UTC</td>\n",
       "      <td>10.1</td>\n",
       "      <td>1</td>\n",
       "      <td>-73.994149</td>\n",
       "      <td>40.751118</td>\n",
       "      <td>-73.960064</td>\n",
       "      <td>40.766235</td>\n",
       "      <td>2</td>\n",
       "      <td>3.326763</td>\n",
       "      <td>2010-04-17 07:23:26</td>\n",
       "      <td>7</td>\n",
       "      <td>am</td>\n",
       "      <td>Sat</td>\n",
       "    </tr>\n",
       "    <tr>\n",
       "      <th>3</th>\n",
       "      <td>2010-04-11 21:25:03 UTC</td>\n",
       "      <td>8.9</td>\n",
       "      <td>0</td>\n",
       "      <td>-73.990485</td>\n",
       "      <td>40.756422</td>\n",
       "      <td>-73.971205</td>\n",
       "      <td>40.748192</td>\n",
       "      <td>1</td>\n",
       "      <td>1.864129</td>\n",
       "      <td>2010-04-11 17:25:03</td>\n",
       "      <td>17</td>\n",
       "      <td>pm</td>\n",
       "      <td>Sun</td>\n",
       "    </tr>\n",
       "    <tr>\n",
       "      <th>4</th>\n",
       "      <td>2010-04-17 02:19:01 UTC</td>\n",
       "      <td>19.7</td>\n",
       "      <td>1</td>\n",
       "      <td>-73.990976</td>\n",
       "      <td>40.734202</td>\n",
       "      <td>-73.905956</td>\n",
       "      <td>40.743115</td>\n",
       "      <td>1</td>\n",
       "      <td>7.231321</td>\n",
       "      <td>2010-04-16 22:19:01</td>\n",
       "      <td>22</td>\n",
       "      <td>pm</td>\n",
       "      <td>Fri</td>\n",
       "    </tr>\n",
       "  </tbody>\n",
       "</table>\n",
       "</div>"
      ],
      "text/plain": [
       "           pickup_datetime  fare_amount  fare_class  pickup_longitude  \\\n",
       "0  2010-04-19 08:17:56 UTC          6.5           0        -73.992365   \n",
       "1  2010-04-17 15:43:53 UTC          6.9           0        -73.990078   \n",
       "2  2010-04-17 11:23:26 UTC         10.1           1        -73.994149   \n",
       "3  2010-04-11 21:25:03 UTC          8.9           0        -73.990485   \n",
       "4  2010-04-17 02:19:01 UTC         19.7           1        -73.990976   \n",
       "\n",
       "   pickup_latitude  dropoff_longitude  dropoff_latitude  passenger_count  \\\n",
       "0        40.730521         -73.975499         40.744746                1   \n",
       "1        40.740558         -73.974232         40.744114                1   \n",
       "2        40.751118         -73.960064         40.766235                2   \n",
       "3        40.756422         -73.971205         40.748192                1   \n",
       "4        40.734202         -73.905956         40.743115                1   \n",
       "\n",
       "   distance        nyc_datetime  Hour AMorPM Weekday  \n",
       "0  2.126312 2010-04-19 04:17:56     4     am     Mon  \n",
       "1  1.392307 2010-04-17 11:43:53    11     am     Sat  \n",
       "2  3.326763 2010-04-17 07:23:26     7     am     Sat  \n",
       "3  1.864129 2010-04-11 17:25:03    17     pm     Sun  \n",
       "4  7.231321 2010-04-16 22:19:01    22     pm     Fri  "
      ]
     },
     "execution_count": 12,
     "metadata": {},
     "output_type": "execute_result"
    }
   ],
   "source": [
    "# get the weekday feature\n",
    "\n",
    "df[\"Weekday\"] = df[\"nyc_datetime\"].dt.strftime(\"%a\")\n",
    "df.head()"
   ]
  },
  {
   "cell_type": "markdown",
   "id": "3181b281",
   "metadata": {},
   "source": [
    "### taking the hour, weekday and am/pm as categorical data"
   ]
  },
  {
   "cell_type": "code",
   "execution_count": 13,
   "id": "b0eac54b",
   "metadata": {},
   "outputs": [
    {
     "data": {
      "text/plain": [
       "Index(['pickup_datetime', 'fare_amount', 'fare_class', 'pickup_longitude',\n",
       "       'pickup_latitude', 'dropoff_longitude', 'dropoff_latitude',\n",
       "       'passenger_count', 'distance', 'nyc_datetime', 'Hour', 'AMorPM',\n",
       "       'Weekday'],\n",
       "      dtype='object')"
      ]
     },
     "execution_count": 13,
     "metadata": {},
     "output_type": "execute_result"
    }
   ],
   "source": [
    "df.columns"
   ]
  },
  {
   "cell_type": "code",
   "execution_count": 14,
   "id": "6dde1087",
   "metadata": {},
   "outputs": [],
   "source": [
    "categorical_cols = ['Hour', 'AMorPM','Weekday']\n",
    "continuous_cols = ['pickup_longitude',\n",
    "       'pickup_latitude', 'dropoff_longitude', 'dropoff_latitude',\n",
    "       'passenger_count', 'distance']\n",
    "y_cols = ['fare_amount'] #final value to be predicted"
   ]
  },
  {
   "cell_type": "markdown",
   "id": "ee10f650",
   "metadata": {},
   "source": [
    "### convert the categorical columns into categories"
   ]
  },
  {
   "cell_type": "code",
   "execution_count": 15,
   "id": "18971e30",
   "metadata": {},
   "outputs": [
    {
     "name": "stdout",
     "output_type": "stream",
     "text": [
      "0    am\n",
      "1    am\n",
      "2    am\n",
      "3    pm\n",
      "4    pm\n",
      "Name: AMorPM, dtype: object 0    am\n",
      "1    am\n",
      "2    am\n",
      "3    pm\n",
      "4    pm\n",
      "Name: AMorPM, dtype: category\n",
      "Categories (2, object): [am, pm]\n"
     ]
    },
    {
     "data": {
      "text/html": [
       "<div>\n",
       "<style scoped>\n",
       "    .dataframe tbody tr th:only-of-type {\n",
       "        vertical-align: middle;\n",
       "    }\n",
       "\n",
       "    .dataframe tbody tr th {\n",
       "        vertical-align: top;\n",
       "    }\n",
       "\n",
       "    .dataframe thead th {\n",
       "        text-align: right;\n",
       "    }\n",
       "</style>\n",
       "<table border=\"1\" class=\"dataframe\">\n",
       "  <thead>\n",
       "    <tr style=\"text-align: right;\">\n",
       "      <th></th>\n",
       "      <th>pickup_datetime</th>\n",
       "      <th>fare_amount</th>\n",
       "      <th>fare_class</th>\n",
       "      <th>pickup_longitude</th>\n",
       "      <th>pickup_latitude</th>\n",
       "      <th>dropoff_longitude</th>\n",
       "      <th>dropoff_latitude</th>\n",
       "      <th>passenger_count</th>\n",
       "      <th>distance</th>\n",
       "      <th>nyc_datetime</th>\n",
       "      <th>Hour</th>\n",
       "      <th>AMorPM</th>\n",
       "      <th>Weekday</th>\n",
       "    </tr>\n",
       "  </thead>\n",
       "  <tbody>\n",
       "    <tr>\n",
       "      <th>0</th>\n",
       "      <td>2010-04-19 08:17:56 UTC</td>\n",
       "      <td>6.5</td>\n",
       "      <td>0</td>\n",
       "      <td>-73.992365</td>\n",
       "      <td>40.730521</td>\n",
       "      <td>-73.975499</td>\n",
       "      <td>40.744746</td>\n",
       "      <td>1</td>\n",
       "      <td>2.126312</td>\n",
       "      <td>2010-04-19 04:17:56</td>\n",
       "      <td>4</td>\n",
       "      <td>am</td>\n",
       "      <td>Mon</td>\n",
       "    </tr>\n",
       "    <tr>\n",
       "      <th>1</th>\n",
       "      <td>2010-04-17 15:43:53 UTC</td>\n",
       "      <td>6.9</td>\n",
       "      <td>0</td>\n",
       "      <td>-73.990078</td>\n",
       "      <td>40.740558</td>\n",
       "      <td>-73.974232</td>\n",
       "      <td>40.744114</td>\n",
       "      <td>1</td>\n",
       "      <td>1.392307</td>\n",
       "      <td>2010-04-17 11:43:53</td>\n",
       "      <td>11</td>\n",
       "      <td>am</td>\n",
       "      <td>Sat</td>\n",
       "    </tr>\n",
       "    <tr>\n",
       "      <th>2</th>\n",
       "      <td>2010-04-17 11:23:26 UTC</td>\n",
       "      <td>10.1</td>\n",
       "      <td>1</td>\n",
       "      <td>-73.994149</td>\n",
       "      <td>40.751118</td>\n",
       "      <td>-73.960064</td>\n",
       "      <td>40.766235</td>\n",
       "      <td>2</td>\n",
       "      <td>3.326763</td>\n",
       "      <td>2010-04-17 07:23:26</td>\n",
       "      <td>7</td>\n",
       "      <td>am</td>\n",
       "      <td>Sat</td>\n",
       "    </tr>\n",
       "    <tr>\n",
       "      <th>3</th>\n",
       "      <td>2010-04-11 21:25:03 UTC</td>\n",
       "      <td>8.9</td>\n",
       "      <td>0</td>\n",
       "      <td>-73.990485</td>\n",
       "      <td>40.756422</td>\n",
       "      <td>-73.971205</td>\n",
       "      <td>40.748192</td>\n",
       "      <td>1</td>\n",
       "      <td>1.864129</td>\n",
       "      <td>2010-04-11 17:25:03</td>\n",
       "      <td>17</td>\n",
       "      <td>pm</td>\n",
       "      <td>Sun</td>\n",
       "    </tr>\n",
       "    <tr>\n",
       "      <th>4</th>\n",
       "      <td>2010-04-17 02:19:01 UTC</td>\n",
       "      <td>19.7</td>\n",
       "      <td>1</td>\n",
       "      <td>-73.990976</td>\n",
       "      <td>40.734202</td>\n",
       "      <td>-73.905956</td>\n",
       "      <td>40.743115</td>\n",
       "      <td>1</td>\n",
       "      <td>7.231321</td>\n",
       "      <td>2010-04-16 22:19:01</td>\n",
       "      <td>22</td>\n",
       "      <td>pm</td>\n",
       "      <td>Fri</td>\n",
       "    </tr>\n",
       "  </tbody>\n",
       "</table>\n",
       "</div>"
      ],
      "text/plain": [
       "           pickup_datetime  fare_amount  fare_class  pickup_longitude  \\\n",
       "0  2010-04-19 08:17:56 UTC          6.5           0        -73.992365   \n",
       "1  2010-04-17 15:43:53 UTC          6.9           0        -73.990078   \n",
       "2  2010-04-17 11:23:26 UTC         10.1           1        -73.994149   \n",
       "3  2010-04-11 21:25:03 UTC          8.9           0        -73.990485   \n",
       "4  2010-04-17 02:19:01 UTC         19.7           1        -73.990976   \n",
       "\n",
       "   pickup_latitude  dropoff_longitude  dropoff_latitude  passenger_count  \\\n",
       "0        40.730521         -73.975499         40.744746                1   \n",
       "1        40.740558         -73.974232         40.744114                1   \n",
       "2        40.751118         -73.960064         40.766235                2   \n",
       "3        40.756422         -73.971205         40.748192                1   \n",
       "4        40.734202         -73.905956         40.743115                1   \n",
       "\n",
       "   distance        nyc_datetime  Hour AMorPM Weekday  \n",
       "0  2.126312 2010-04-19 04:17:56     4     am     Mon  \n",
       "1  1.392307 2010-04-17 11:43:53    11     am     Sat  \n",
       "2  3.326763 2010-04-17 07:23:26     7     am     Sat  \n",
       "3  1.864129 2010-04-11 17:25:03    17     pm     Sun  \n",
       "4  7.231321 2010-04-16 22:19:01    22     pm     Fri  "
      ]
     },
     "execution_count": 15,
     "metadata": {},
     "output_type": "execute_result"
    }
   ],
   "source": [
    "print(df['AMorPM'][:5],df['AMorPM'][:5].astype('category'))\n",
    "df.head()"
   ]
  },
  {
   "cell_type": "code",
   "execution_count": 16,
   "id": "3aff2223",
   "metadata": {},
   "outputs": [],
   "source": [
    "for cats in categorical_cols:\n",
    "    df[cats]= df[cats].astype('category')"
   ]
  },
  {
   "cell_type": "code",
   "execution_count": 17,
   "id": "9259373e",
   "metadata": {},
   "outputs": [
    {
     "data": {
      "text/plain": [
       "0    am\n",
       "1    am\n",
       "2    am\n",
       "3    pm\n",
       "4    pm\n",
       "Name: AMorPM, dtype: category\n",
       "Categories (2, object): [am, pm]"
      ]
     },
     "execution_count": 17,
     "metadata": {},
     "output_type": "execute_result"
    }
   ],
   "source": [
    "df[\"AMorPM\"].head()"
   ]
  },
  {
   "cell_type": "code",
   "execution_count": 18,
   "id": "d0aa11f2",
   "metadata": {},
   "outputs": [
    {
     "data": {
      "text/plain": [
       "(Index(['Fri', 'Mon', 'Sat', 'Sun', 'Thu', 'Tue', 'Wed'], dtype='object'),\n",
       " 0    1\n",
       " 1    2\n",
       " 2    2\n",
       " 3    3\n",
       " 4    0\n",
       " dtype: int8)"
      ]
     },
     "execution_count": 18,
     "metadata": {},
     "output_type": "execute_result"
    }
   ],
   "source": [
    "df[\"Weekday\"].cat.categories ,df[\"Weekday\"].head().cat.codes"
   ]
  },
  {
   "cell_type": "markdown",
   "id": "4f8f1c25",
   "metadata": {},
   "source": [
    "### combine the codes columns into one input array using np.stack, only the values"
   ]
  },
  {
   "cell_type": "code",
   "execution_count": 19,
   "id": "800ac416",
   "metadata": {},
   "outputs": [
    {
     "name": "stdout",
     "output_type": "stream",
     "text": [
      "[ 4 11  7 17 22] [1 2 2 3 0] [0 0 0 1 1]\n",
      "[[ 4  0  1]\n",
      " [11  0  2]\n",
      " [ 7  0  2]\n",
      " [17  1  3]\n",
      " [22  1  0]]\n",
      "[[ 4 11  7 ... 14  4 12]\n",
      " [ 0  0  0 ...  1  0  1]\n",
      " [ 1  2  2 ...  3  5  2]]\n"
     ]
    }
   ],
   "source": [
    "hr=df[\"Hour\"].cat.codes.values\n",
    "ap =df[\"AMorPM\"].cat.codes.values\n",
    "week=df[\"Weekday\"].cat.codes.values\n",
    "\n",
    "print(hr[:5],week[:5],ap[:5])\n",
    "\n",
    "cats = np.stack([hr,ap,week] , axis =1) #columnwise\n",
    "\n",
    "print(cats[:5])\n",
    "\n",
    "cats_row = np.stack([hr,ap,week] , axis =0) #rowwise\n",
    "\n",
    "print(cats_row[:5])"
   ]
  },
  {
   "cell_type": "markdown",
   "id": "5105f55d",
   "metadata": {},
   "source": [
    "### Convert the numpy arrays into tensors"
   ]
  },
  {
   "cell_type": "code",
   "execution_count": 20,
   "id": "8c956b5a",
   "metadata": {},
   "outputs": [
    {
     "data": {
      "text/plain": [
       "tensor([[ 4,  0,  1],\n",
       "        [11,  0,  2],\n",
       "        [ 7,  0,  2],\n",
       "        [17,  1,  3],\n",
       "        [22,  1,  0]])"
      ]
     },
     "execution_count": 20,
     "metadata": {},
     "output_type": "execute_result"
    }
   ],
   "source": [
    "cats = torch.tensor(cats,dtype=torch.int64)\n",
    "cats[:5]"
   ]
  },
  {
   "cell_type": "markdown",
   "id": "bc6cb0fe",
   "metadata": {},
   "source": [
    "Also convert the continues variables into torch tensors\n",
    "##### It is important to store the continuous features into Float (float32) tensors and not Double (float64) in order for the batch normalization to work properly "
   ]
  },
  {
   "cell_type": "code",
   "execution_count": 21,
   "id": "436af3ee",
   "metadata": {},
   "outputs": [
    {
     "data": {
      "text/plain": [
       "tensor([[-73.9924,  40.7305, -73.9755,  40.7447,   1.0000,   2.1263],\n",
       "        [-73.9901,  40.7406, -73.9742,  40.7441,   1.0000,   1.3923],\n",
       "        [-73.9941,  40.7511, -73.9601,  40.7662,   2.0000,   3.3268],\n",
       "        [-73.9905,  40.7564, -73.9712,  40.7482,   1.0000,   1.8641],\n",
       "        [-73.9910,  40.7342, -73.9060,  40.7431,   1.0000,   7.2313]])"
      ]
     },
     "execution_count": 21,
     "metadata": {},
     "output_type": "execute_result"
    }
   ],
   "source": [
    "conts = np.stack([df[col] for col in continuous_cols], axis=1)\n",
    "conts = torch.tensor(conts, dtype=torch.float)\n",
    "\n",
    "conts[:5]"
   ]
  },
  {
   "cell_type": "code",
   "execution_count": 22,
   "id": "79e84a6d",
   "metadata": {},
   "outputs": [
    {
     "data": {
      "text/plain": [
       "('torch.LongTensor', 'torch.FloatTensor', str, torch.int64, torch.float32)"
      ]
     },
     "execution_count": 22,
     "metadata": {},
     "output_type": "execute_result"
    }
   ],
   "source": [
    "cats.type(),conts.type(),type(cats[0].type()),cats.dtype,conts.dtype"
   ]
  },
  {
   "cell_type": "markdown",
   "id": "e19fc54e",
   "metadata": {},
   "source": [
    "get torch tensors for the fare amount "
   ]
  },
  {
   "cell_type": "code",
   "execution_count": 23,
   "id": "aa822d55",
   "metadata": {},
   "outputs": [
    {
     "data": {
      "text/plain": [
       "torch.Size([120000, 1])"
      ]
     },
     "execution_count": 23,
     "metadata": {},
     "output_type": "execute_result"
    }
   ],
   "source": [
    "y=torch.tensor(df[\"fare_amount\"],dtype=torch.float).reshape(-1,1)\n",
    "y.shape"
   ]
  },
  {
   "cell_type": "code",
   "execution_count": 24,
   "id": "d2eec71b",
   "metadata": {},
   "outputs": [
    {
     "data": {
      "text/plain": [
       "(torch.Size([120000, 3]), torch.Size([120000, 6]), torch.Size([120000, 1]))"
      ]
     },
     "execution_count": 24,
     "metadata": {},
     "output_type": "execute_result"
    }
   ],
   "source": [
    "cats.shape,conts.shape,y.shape"
   ]
  },
  {
   "cell_type": "code",
   "execution_count": 25,
   "id": "d16f91e7",
   "metadata": {},
   "outputs": [
    {
     "data": {
      "text/plain": [
       "(tensor([[ 4,  0,  1],\n",
       "         [11,  0,  2],\n",
       "         [ 7,  0,  2]]),\n",
       " tensor([[-73.9924,  40.7305, -73.9755,  40.7447,   1.0000,   2.1263],\n",
       "         [-73.9901,  40.7406, -73.9742,  40.7441,   1.0000,   1.3923],\n",
       "         [-73.9941,  40.7511, -73.9601,  40.7662,   2.0000,   3.3268]]),\n",
       " tensor([[ 6.5000],\n",
       "         [ 6.9000],\n",
       "         [10.1000]]))"
      ]
     },
     "execution_count": 25,
     "metadata": {},
     "output_type": "execute_result"
    }
   ],
   "source": [
    "cats[:3],conts[:3],y[:3]"
   ]
  },
  {
   "cell_type": "markdown",
   "id": "984f9341",
   "metadata": {},
   "source": [
    "# Embedding the categorical data with tensor\n",
    "\n",
    "Docstring of nn.Embedding module\n",
    "\n",
    "nn.Embedding( <br>\n",
    "&nbsp;&nbsp;&nbsp;&nbsp;num_embeddings: int,<br>\n",
    "&nbsp;&nbsp;&nbsp;&nbsp;embedding_dim: int,<br>\n",
    "&nbsp;&nbsp;&nbsp;&nbsp;padding_idx: Union[int, NoneType] = None,\n",
    "&nbsp;&nbsp;&nbsp;&nbsp;max_norm: Union[float, NoneType] = None,\n",
    "&nbsp;&nbsp;&nbsp;&nbsp;norm_type: float = 2.0,\n",
    "&nbsp;&nbsp;&nbsp;&nbsp;scale_grad_by_freq: bool = False,\n",
    "&nbsp;&nbsp;&nbsp;&nbsp;sparse: bool = False,\n",
    "&nbsp;&nbsp;&nbsp;&nbsp;_weight: Union[torch.Tensor, NoneType] = None,\n",
    ") -> None\n",
    "\n",
    "Docstring:     \n",
    "A simple lookup table that stores embeddings of a fixed dictionary and size.\n",
    "\n",
    "This module is often used to store word embeddings and retrieve them using indices.\n",
    "The input to the module is a list of indices, and the output is the corresponding\n",
    "word embeddings."
   ]
  },
  {
   "cell_type": "code",
   "execution_count": 26,
   "id": "0d8f1938",
   "metadata": {},
   "outputs": [
    {
     "data": {
      "text/plain": [
       "tensor([[-0.8869,  1.0431, -0.3532,  1.3048, -0.6177,  0.5759,  0.8930, -0.3477,\n",
       "          1.9138,  1.2875,  0.1557, -1.4329],\n",
       "        [-0.7795, -0.8482, -1.1163,  0.0174, -1.8208,  0.9388, -0.4445,  0.4060,\n",
       "          0.2779,  0.4974,  0.7186, -0.4680],\n",
       "        [-0.4583, -0.2167, -0.2391,  1.3871,  0.7622, -0.6766, -0.8075,  0.6781,\n",
       "          0.6786, -1.7861, -0.9126, -1.0419],\n",
       "        [ 0.7706,  2.0860, -0.2332, -0.5657, -0.4858, -0.9111, -0.2755,  2.3138,\n",
       "         -2.0265, -1.5767,  0.3435, -2.4025],\n",
       "        [ 0.0271, -0.2511,  1.2960,  2.7405,  2.2799,  0.7166, -0.0561, -0.1545,\n",
       "         -1.6475,  0.0965,  0.1379,  0.0145],\n",
       "        [-1.1074,  0.2608, -1.2838, -0.0524, -0.6001,  0.4290, -1.1779, -2.0437,\n",
       "          0.4106,  2.0010, -1.2907,  1.0392]], grad_fn=<EmbeddingBackward>)"
      ]
     },
     "execution_count": 26,
     "metadata": {},
     "output_type": "execute_result"
    }
   ],
   "source": [
    "e=nn.Embedding(24,12)\n",
    "e(torch.tensor([0,1,3,5,2,23]))# more than 24 will give error as it will be out of index"
   ]
  },
  {
   "cell_type": "markdown",
   "id": "c5ffda05",
   "metadata": {},
   "source": [
    "now we need to define such embeddings and their dimesions for each of our categorical data"
   ]
  },
  {
   "cell_type": "code",
   "execution_count": 27,
   "id": "cf6ae509",
   "metadata": {},
   "outputs": [
    {
     "name": "stdout",
     "output_type": "stream",
     "text": [
      "Index(['pickup_datetime', 'fare_amount', 'fare_class', 'pickup_longitude',\n",
      "       'pickup_latitude', 'dropoff_longitude', 'dropoff_latitude',\n",
      "       'passenger_count', 'distance', 'nyc_datetime', 'Hour', 'AMorPM',\n",
      "       'Weekday'],\n",
      "      dtype='object')\n",
      "Index(['Fri', 'Mon', 'Sat', 'Sun', 'Thu', 'Tue', 'Wed'], dtype='object')\n"
     ]
    },
    {
     "data": {
      "text/plain": [
       "[24, 2, 7]"
      ]
     },
     "execution_count": 27,
     "metadata": {},
     "output_type": "execute_result"
    }
   ],
   "source": [
    "# the dimension size should not be more than 50 (ideally) ie 2^50 amount of information\n",
    "print(df.columns)\n",
    "print(df[\"Weekday\"].cat.categories)\n",
    "\n",
    "#get the number of embedding for each category\n",
    "cat_size= [len(df[col].cat.categories) for col in categorical_cols]\n",
    "cat_size"
   ]
  },
  {
   "cell_type": "code",
   "execution_count": 28,
   "id": "5dec4bf1",
   "metadata": {},
   "outputs": [
    {
     "data": {
      "text/plain": [
       "[(24, 12), (2, 1), (7, 4)]"
      ]
     },
     "execution_count": 28,
     "metadata": {},
     "output_type": "execute_result"
    }
   ],
   "source": [
    "#get number of dimension for each category\n",
    "emb_size = [(i , min(50 ,(i+1)//2)) for i in cat_size]\n",
    "emb_size"
   ]
  },
  {
   "cell_type": "markdown",
   "id": "244e2133",
   "metadata": {},
   "source": [
    "### example of how it is going to work inside model"
   ]
  },
  {
   "cell_type": "code",
   "execution_count": 29,
   "id": "38030ec3",
   "metadata": {},
   "outputs": [
    {
     "data": {
      "text/plain": [
       "ModuleList(\n",
       "  (0): Embedding(24, 12)\n",
       "  (1): Embedding(2, 1)\n",
       "  (2): Embedding(7, 4)\n",
       ")"
      ]
     },
     "execution_count": 29,
     "metadata": {},
     "output_type": "execute_result"
    }
   ],
   "source": [
    "selfembeds = nn.ModuleList([nn.Embedding(number_of_embedding,number_of_dimension) for \\\n",
    "                          number_of_embedding,number_of_dimension in emb_size])\n",
    "selfembeds"
   ]
  },
  {
   "cell_type": "code",
   "execution_count": 30,
   "id": "ab77af6e",
   "metadata": {},
   "outputs": [
    {
     "data": {
      "text/plain": [
       "([(0, Embedding(24, 12)), (1, Embedding(2, 1)), (2, Embedding(7, 4))],\n",
       " Embedding(24, 12),\n",
       " tensor([[-0.1680, -1.7251, -0.3140,  1.0509, -1.4693, -0.2153,  1.7432,  0.5314,\n",
       "          -0.0449, -0.4639,  0.8726,  0.0976]], grad_fn=<EmbeddingBackward>))"
      ]
     },
     "execution_count": 30,
     "metadata": {},
     "output_type": "execute_result"
    }
   ],
   "source": [
    "list(enumerate(selfembeds)),selfembeds[0],selfembeds[0](torch.tensor([3]))"
   ]
  },
  {
   "cell_type": "code",
   "execution_count": 31,
   "id": "f61040b7",
   "metadata": {},
   "outputs": [
    {
     "name": "stdout",
     "output_type": "stream",
     "text": [
      "tensor([[4, 0, 1]])\n",
      "0 tensor([4]) tensor([[-0.3626, -0.2221,  0.6802,  0.5701, -0.5164,  0.5442, -0.4835,  0.7680,\n",
      "         -1.1295,  0.1069,  3.0723, -0.5322]], grad_fn=<EmbeddingBackward>)\n",
      "1 tensor([0]) tensor([[-1.6872]], grad_fn=<EmbeddingBackward>)\n",
      "2 tensor([1]) tensor([[-1.4180,  0.9825, -2.8505, -0.9005]], grad_fn=<EmbeddingBackward>)\n"
     ]
    }
   ],
   "source": [
    "ct = cats[:1]\n",
    "print(ct)\n",
    "embeddingz=[]\n",
    "for i ,embd in enumerate(selfembeds):\n",
    "    embs = embd(ct[:,i])\n",
    "    embeddingz.append(embs)\n",
    "    print(i,ct[:,i],embs)"
   ]
  },
  {
   "cell_type": "markdown",
   "id": "d71468c8",
   "metadata": {},
   "source": [
    "now concatenate the different embeddings dimensions (12,1,4) into one (17)"
   ]
  },
  {
   "cell_type": "code",
   "execution_count": 32,
   "id": "fcf45bff",
   "metadata": {},
   "outputs": [
    {
     "data": {
      "text/plain": [
       "(tensor([[-0.3626, -0.2221,  0.6802,  0.5701, -0.5164,  0.5442, -0.4835,  0.7680,\n",
       "          -1.1295,  0.1069,  3.0723, -0.5322, -1.6872, -1.4180,  0.9825, -2.8505,\n",
       "          -0.9005]], grad_fn=<CatBackward>),\n",
       " torch.Size([1, 17]))"
      ]
     },
     "execution_count": 32,
     "metadata": {},
     "output_type": "execute_result"
    }
   ],
   "source": [
    "z = torch.cat(embeddingz,axis=1)\n",
    "z,z.shape"
   ]
  },
  {
   "cell_type": "markdown",
   "id": "9b0095f3",
   "metadata": {},
   "source": [
    "### set the drop outs\n",
    "\n",
    "\n",
    "\n",
    "Init signature: nn.Dropout(p: float = 0.5, inplace: bool = False) -> None <br>\n",
    "Docstring:     <br>\n",
    "During training, randomly zeroes some of the elements of the input\n",
    "tensor with probability :attr:`p` using samples from a Bernoulli\n",
    "distribution. Each channel will be zeroed out independently on every forward\n",
    "call.\n",
    "\n",
    "This has proven to be an effective technique for regularization and\n",
    "preventing the co-adaptation of neurons as described in the paper\n",
    "`Improving neural networks by preventing co-adaptation of feature\n",
    "detectors`_ ."
   ]
  },
  {
   "cell_type": "code",
   "execution_count": 33,
   "id": "f6a48094",
   "metadata": {},
   "outputs": [],
   "source": [
    "dropouts =nn.Dropout(.4)"
   ]
  },
  {
   "cell_type": "code",
   "execution_count": 34,
   "id": "2a183931",
   "metadata": {},
   "outputs": [
    {
     "data": {
      "text/plain": [
       "(tensor([[-0.3626, -0.2221,  0.6802,  0.5701, -0.5164,  0.5442, -0.4835,  0.7680,\n",
       "          -1.1295,  0.1069,  3.0723, -0.5322, -1.6872, -1.4180,  0.9825, -2.8505,\n",
       "          -0.9005]], grad_fn=<CatBackward>),\n",
       " tensor([[-0.0000, -0.0000,  0.0000,  0.9501, -0.8606,  0.9070, -0.0000,  1.2801,\n",
       "          -1.8825,  0.1781,  5.1206, -0.8870, -2.8119, -2.3633,  0.0000, -0.0000,\n",
       "          -0.0000]], grad_fn=<MulBackward0>))"
      ]
     },
     "execution_count": 34,
     "metadata": {},
     "output_type": "execute_result"
    }
   ],
   "source": [
    "z,dropouts(z)"
   ]
  },
  {
   "cell_type": "code",
   "execution_count": 35,
   "id": "5920c6c1",
   "metadata": {},
   "outputs": [
    {
     "data": {
      "text/plain": [
       "torch.nn.modules.batchnorm.BatchNorm1d"
      ]
     },
     "execution_count": 35,
     "metadata": {},
     "output_type": "execute_result"
    }
   ],
   "source": [
    "nn.BatchNorm1d"
   ]
  },
  {
   "cell_type": "markdown",
   "id": "c7df86f6",
   "metadata": {},
   "source": [
    "nn.ReLU\n",
    "nn.BatchNorm1d\n",
    "\n",
    "$y = \\frac{x - \\mathrm{E}[x]}{\\sqrt{\\mathrm{Var}[x] + \\epsilon}} * \\gamma + \\beta$\n",
    "\n",
    "\n",
    "$\\gamma$ and $\\beta$ are learnable parameter vectors\n",
    "of size `C` (where `C` is the input size)"
   ]
  },
  {
   "cell_type": "markdown",
   "id": "e7965515",
   "metadata": {},
   "source": [
    "# Define model"
   ]
  },
  {
   "cell_type": "code",
   "execution_count": 36,
   "id": "d307340d",
   "metadata": {},
   "outputs": [
    {
     "ename": "SyntaxError",
     "evalue": "invalid syntax (3582675413.py, line 2)",
     "output_type": "error",
     "traceback": [
      "\u001b[1;36m  File \u001b[1;32m\"C:\\Users\\shashan3\\AppData\\Local\\Temp\\ipykernel_2812\\3582675413.py\"\u001b[1;36m, line \u001b[1;32m2\u001b[0m\n\u001b[1;33m    super().__init(self, emb_size, continuous_dim, output_sz, layers, p=0.5):\u001b[0m\n\u001b[1;37m                                                                             ^\u001b[0m\n\u001b[1;31mSyntaxError\u001b[0m\u001b[1;31m:\u001b[0m invalid syntax\n"
     ]
    }
   ],
   "source": [
    "class TabModel(nn.Module):\n",
    "    super().__init__(self, emb_size, continuous_dim, output_sz, layers, p=0.5):\n",
    "        \"\"\"\n",
    "        emb_size: List of tuples -> with unique number of categories and number of dimension\n",
    "        for each categorical feature\n",
    "        \n",
    "        continuous_dim: int -> number of dimesion of the continuous features, all combined\n",
    "        \n",
    "        output_sz: int -> number of outputs, size of last layer,\n",
    "        \n",
    "        layer: list of int -> list of dimension of each layer, len of layers is the number of layers\n",
    "        \n",
    "        p: float -> dropout probability\n",
    "        \"\"\"\n",
    "        #embedding for categorical data in forward pass\n",
    "        self.embs = nn.ModuleList([nn.Embedding(n_unique_cats, n_dimension) for n_unique_cats, n_dimnesion in emb_size])\n",
    "        \n",
    "        #dimension of embeddings of categorical data\n",
    "        n_cats_emb = np.sum([n_dimension for _,n_dimension in emb_size])\n",
    "        \n",
    "        #dropout layer for categorical data\n",
    "        self.emb_drop = nn.Dropout(p)\n",
    "        \n",
    "        #normalization function for continuous variables - use this in forward pass\n",
    "        self.cont_batchnorm_layer = nn.BatchNorm1d(continuous_dim)\n",
    "        \n",
    "        #dimension of input vector-> combined features \n",
    "        n_dim = n_cats_emb + continuous_dim\n",
    "        \n",
    "        #list with hold the layer in the NN\n",
    "        layerlist = []\n",
    "        \n",
    "        #itererate over the layers list, itj item is the number of neurons in ith layes\n",
    "        for i in layers:\n",
    "            layerslist.append(nn.Linear(n_dim,i)) #linear layer\n",
    "            layerslist.append(nn.ReLU(inplace=True)) #RelU\n",
    "            layerslist.append(nn.BatchNorm1d(i)) #Batch Noramlization\n",
    "            layerslist.append(nn.Dropout(p)) #Dropout layer with given p\n",
    "            n_dim = i #set the input for next layer\n",
    "    \n",
    "        layerlist.append(nn.Linear(layers[-1],output_sz))#last layer\n",
    "        self.layers = nn.Sequential(*layerlist)\n",
    "            \n",
    "        \n",
    "        "
   ]
  },
  {
   "cell_type": "code",
   "execution_count": null,
   "id": "1886849b",
   "metadata": {},
   "outputs": [],
   "source": []
  },
  {
   "cell_type": "code",
   "execution_count": null,
   "id": "a54db98f",
   "metadata": {},
   "outputs": [],
   "source": []
  }
 ],
 "metadata": {
  "kernelspec": {
   "display_name": "Python 3 (ipykernel)",
   "language": "python",
   "name": "python3"
  },
  "language_info": {
   "codemirror_mode": {
    "name": "ipython",
    "version": 3
   },
   "file_extension": ".py",
   "mimetype": "text/x-python",
   "name": "python",
   "nbconvert_exporter": "python",
   "pygments_lexer": "ipython3",
   "version": "3.7.3"
  }
 },
 "nbformat": 4,
 "nbformat_minor": 5
}
