{
 "cells": [
  {
   "cell_type": "markdown",
   "id": "73ae6429",
   "metadata": {},
   "source": [
    "The goal is to estimate the cost of a New York City cab ride from several inputs. The data is taken from NYC cab fare prediction <a href='https://www.kaggle.com/c/new-york-city-taxi-fare-prediction'>Kaggle competition</a>.\n",
    "\n",
    "Perform following steps\n",
    "<ol>\n",
    "    <li> Perform Feature Engineering</li>\n",
    "    <ol>\n",
    "        <li> calculate the distance from give latitude and longitude</li>\n",
    "        <li> convert the pickup_datetime to date_time object</li>\n",
    "        <li> convert the date time to newyork time </li>\n",
    "        <li> get day of week, hour of the day, am/pm </li>\n",
    "        \n",
    "</ol>\n"
   ]
  },
  {
   "cell_type": "code",
   "execution_count": 1,
   "id": "8e38b2ba",
   "metadata": {},
   "outputs": [],
   "source": [
    "import torch\n",
    "import torch.nn as nn\n",
    "\n",
    "import numpy as np\n",
    "import pandas as pd\n",
    "import matplotlib.pyplot as plt\n",
    "%matplotlib inline"
   ]
  },
  {
   "cell_type": "code",
   "execution_count": 2,
   "id": "2a78773a",
   "metadata": {},
   "outputs": [],
   "source": [
    "import time"
   ]
  },
  {
   "cell_type": "code",
   "execution_count": 3,
   "id": "ead3d48e",
   "metadata": {},
   "outputs": [
    {
     "data": {
      "text/html": [
       "<div>\n",
       "<style scoped>\n",
       "    .dataframe tbody tr th:only-of-type {\n",
       "        vertical-align: middle;\n",
       "    }\n",
       "\n",
       "    .dataframe tbody tr th {\n",
       "        vertical-align: top;\n",
       "    }\n",
       "\n",
       "    .dataframe thead th {\n",
       "        text-align: right;\n",
       "    }\n",
       "</style>\n",
       "<table border=\"1\" class=\"dataframe\">\n",
       "  <thead>\n",
       "    <tr style=\"text-align: right;\">\n",
       "      <th></th>\n",
       "      <th>pickup_datetime</th>\n",
       "      <th>fare_amount</th>\n",
       "      <th>fare_class</th>\n",
       "      <th>pickup_longitude</th>\n",
       "      <th>pickup_latitude</th>\n",
       "      <th>dropoff_longitude</th>\n",
       "      <th>dropoff_latitude</th>\n",
       "      <th>passenger_count</th>\n",
       "    </tr>\n",
       "  </thead>\n",
       "  <tbody>\n",
       "    <tr>\n",
       "      <th>0</th>\n",
       "      <td>2010-04-19 08:17:56 UTC</td>\n",
       "      <td>6.5</td>\n",
       "      <td>0</td>\n",
       "      <td>-73.992365</td>\n",
       "      <td>40.730521</td>\n",
       "      <td>-73.975499</td>\n",
       "      <td>40.744746</td>\n",
       "      <td>1</td>\n",
       "    </tr>\n",
       "    <tr>\n",
       "      <th>1</th>\n",
       "      <td>2010-04-17 15:43:53 UTC</td>\n",
       "      <td>6.9</td>\n",
       "      <td>0</td>\n",
       "      <td>-73.990078</td>\n",
       "      <td>40.740558</td>\n",
       "      <td>-73.974232</td>\n",
       "      <td>40.744114</td>\n",
       "      <td>1</td>\n",
       "    </tr>\n",
       "    <tr>\n",
       "      <th>2</th>\n",
       "      <td>2010-04-17 11:23:26 UTC</td>\n",
       "      <td>10.1</td>\n",
       "      <td>1</td>\n",
       "      <td>-73.994149</td>\n",
       "      <td>40.751118</td>\n",
       "      <td>-73.960064</td>\n",
       "      <td>40.766235</td>\n",
       "      <td>2</td>\n",
       "    </tr>\n",
       "    <tr>\n",
       "      <th>3</th>\n",
       "      <td>2010-04-11 21:25:03 UTC</td>\n",
       "      <td>8.9</td>\n",
       "      <td>0</td>\n",
       "      <td>-73.990485</td>\n",
       "      <td>40.756422</td>\n",
       "      <td>-73.971205</td>\n",
       "      <td>40.748192</td>\n",
       "      <td>1</td>\n",
       "    </tr>\n",
       "    <tr>\n",
       "      <th>4</th>\n",
       "      <td>2010-04-17 02:19:01 UTC</td>\n",
       "      <td>19.7</td>\n",
       "      <td>1</td>\n",
       "      <td>-73.990976</td>\n",
       "      <td>40.734202</td>\n",
       "      <td>-73.905956</td>\n",
       "      <td>40.743115</td>\n",
       "      <td>1</td>\n",
       "    </tr>\n",
       "  </tbody>\n",
       "</table>\n",
       "</div>"
      ],
      "text/plain": [
       "           pickup_datetime  fare_amount  fare_class  pickup_longitude  \\\n",
       "0  2010-04-19 08:17:56 UTC          6.5           0        -73.992365   \n",
       "1  2010-04-17 15:43:53 UTC          6.9           0        -73.990078   \n",
       "2  2010-04-17 11:23:26 UTC         10.1           1        -73.994149   \n",
       "3  2010-04-11 21:25:03 UTC          8.9           0        -73.990485   \n",
       "4  2010-04-17 02:19:01 UTC         19.7           1        -73.990976   \n",
       "\n",
       "   pickup_latitude  dropoff_longitude  dropoff_latitude  passenger_count  \n",
       "0        40.730521         -73.975499         40.744746                1  \n",
       "1        40.740558         -73.974232         40.744114                1  \n",
       "2        40.751118         -73.960064         40.766235                2  \n",
       "3        40.756422         -73.971205         40.748192                1  \n",
       "4        40.734202         -73.905956         40.743115                1  "
      ]
     },
     "execution_count": 3,
     "metadata": {},
     "output_type": "execute_result"
    }
   ],
   "source": [
    "#took a very small section of data 120k rows from 5.5 millions rows\n",
    "\n",
    "df = pd.read_csv('../Data/NYCTaxiFares.csv')\n",
    "df.head()"
   ]
  },
  {
   "cell_type": "code",
   "execution_count": 4,
   "id": "aee5a72c",
   "metadata": {},
   "outputs": [],
   "source": [
    "# df[\"dropoff_longitude\"]"
   ]
  },
  {
   "cell_type": "markdown",
   "id": "258b8d0a",
   "metadata": {},
   "source": [
    "Calculate the Haversine Distance: istance on a sphere between two sets of GPS coordinates\n",
    "\n",
    "${\\displaystyle d=2r\\arcsin \\left({\\sqrt {\\sin ^{2}\\left({\\frac {\\varphi _{2}-\\varphi _{1}}{2}}\\right)+\\cos(\\varphi _{1})\\:\\cos(\\varphi _{2})\\:\\sin ^{2}\\left({\\frac {\\lambda _{2}-\\lambda _{1}}{2}}\\right)}}\\right)}$\n",
    "\n",
    "$\\varphi$ is latitude\n",
    "\n",
    "$\\lambda$ is longitude\n",
    "\n",
    "$r$ is the radius, here earth's radius that is appox 6371 km\n"
   ]
  },
  {
   "cell_type": "code",
   "execution_count": 5,
   "id": "0e4900de",
   "metadata": {},
   "outputs": [],
   "source": [
    "r = 6371"
   ]
  },
  {
   "cell_type": "code",
   "execution_count": 6,
   "id": "1f03872c",
   "metadata": {},
   "outputs": [
    {
     "name": "stdout",
     "output_type": "stream",
     "text": [
      "\n",
      "Duration: 14 seconds\n"
     ]
    }
   ],
   "source": [
    "##super slow version as the apply function runs over each row seperatly --8 sec!!!!\n",
    "def haversine_distance(df):\n",
    "    \n",
    "    phi2 = np.radians(df[\"dropoff_latitude\"])\n",
    "    phi1 = np.radians(df[\"pickup_latitude\"])\n",
    "    del_phi = np.radians(df[\"dropoff_latitude\"] - df[\"pickup_latitude\"])\n",
    "    del_lambda = np.radians(df[\"dropoff_longitude\"] - df[\"pickup_longitude\"])\n",
    "    \n",
    "    term1 = np.sin(del_phi/2)**2 + np.cos(phi1) * np.cos(phi2) \\\n",
    "            * np.sin(del_lambda /2)**2\n",
    "#     print(term1)\n",
    "    term2 = 2 * np.arctan2(np.sqrt(term1), np.sqrt(1-term1))\n",
    "    result = (r * term2)\n",
    "    return result\n",
    "    \n",
    "start_time = time.time()\n",
    "df[\"distance\"] = df.apply(haversine_distance,axis=1)\n",
    "df.head()\n",
    "print(f'\\nDuration: {time.time() - start_time:.0f} seconds')"
   ]
  },
  {
   "cell_type": "code",
   "execution_count": 7,
   "id": "a2235030",
   "metadata": {},
   "outputs": [
    {
     "name": "stdout",
     "output_type": "stream",
     "text": [
      "\n",
      "Duration: 0.0465312004 seconds\n"
     ]
    }
   ],
   "source": [
    "#super fast as it is doing matrix operations in numpy -> 0.02 seconds!! 400 times faster\n",
    "def haversine_distance(df,drop_lat,drop_long,pick_lat,pick_long):\n",
    "    \n",
    "    phi2 = np.radians(df[drop_lat])\n",
    "    phi1 = np.radians(df[pick_lat])\n",
    "    \n",
    "    del_phi = np.radians(df[drop_lat] - df[pick_lat])\n",
    "    \n",
    "    del_lambda = np.radians(df[drop_long] - df[pick_long])\n",
    "    \n",
    "    term1 = np.sin(del_phi/2)**2 + np.cos(phi1) * np.cos(phi2) \\\n",
    "            * np.sin(del_lambda /2)**2\n",
    "#     print(term1)\n",
    "    term2 = 2 * np.arctan2(np.sqrt(term1) , np.sqrt(1-term1))\n",
    "    result = (r * term2)\n",
    "    return result\n",
    "\n",
    "start_time = time.time()\n",
    "df[\"distance\"] = haversine_distance(df,\"dropoff_latitude\",\"dropoff_longitude\"\\\n",
    "                                    ,\"pickup_latitude\",\"pickup_longitude\")\n",
    "df.head()\n",
    "print(f'\\nDuration: {time.time() - start_time:.10f} seconds')"
   ]
  },
  {
   "cell_type": "code",
   "execution_count": 8,
   "id": "d34f2c69",
   "metadata": {},
   "outputs": [
    {
     "name": "stdout",
     "output_type": "stream",
     "text": [
      "<class 'pandas._libs.tslibs.timestamps.Timestamp'>\n"
     ]
    },
    {
     "data": {
      "text/html": [
       "<div>\n",
       "<style scoped>\n",
       "    .dataframe tbody tr th:only-of-type {\n",
       "        vertical-align: middle;\n",
       "    }\n",
       "\n",
       "    .dataframe tbody tr th {\n",
       "        vertical-align: top;\n",
       "    }\n",
       "\n",
       "    .dataframe thead th {\n",
       "        text-align: right;\n",
       "    }\n",
       "</style>\n",
       "<table border=\"1\" class=\"dataframe\">\n",
       "  <thead>\n",
       "    <tr style=\"text-align: right;\">\n",
       "      <th></th>\n",
       "      <th>pickup_datetime</th>\n",
       "      <th>fare_amount</th>\n",
       "      <th>fare_class</th>\n",
       "      <th>pickup_longitude</th>\n",
       "      <th>pickup_latitude</th>\n",
       "      <th>dropoff_longitude</th>\n",
       "      <th>dropoff_latitude</th>\n",
       "      <th>passenger_count</th>\n",
       "      <th>distance</th>\n",
       "      <th>nyc_datetime</th>\n",
       "    </tr>\n",
       "  </thead>\n",
       "  <tbody>\n",
       "    <tr>\n",
       "      <th>0</th>\n",
       "      <td>2010-04-19 08:17:56 UTC</td>\n",
       "      <td>6.5</td>\n",
       "      <td>0</td>\n",
       "      <td>-73.992365</td>\n",
       "      <td>40.730521</td>\n",
       "      <td>-73.975499</td>\n",
       "      <td>40.744746</td>\n",
       "      <td>1</td>\n",
       "      <td>2.126312</td>\n",
       "      <td>2010-04-19 04:17:56</td>\n",
       "    </tr>\n",
       "    <tr>\n",
       "      <th>1</th>\n",
       "      <td>2010-04-17 15:43:53 UTC</td>\n",
       "      <td>6.9</td>\n",
       "      <td>0</td>\n",
       "      <td>-73.990078</td>\n",
       "      <td>40.740558</td>\n",
       "      <td>-73.974232</td>\n",
       "      <td>40.744114</td>\n",
       "      <td>1</td>\n",
       "      <td>1.392307</td>\n",
       "      <td>2010-04-17 11:43:53</td>\n",
       "    </tr>\n",
       "    <tr>\n",
       "      <th>2</th>\n",
       "      <td>2010-04-17 11:23:26 UTC</td>\n",
       "      <td>10.1</td>\n",
       "      <td>1</td>\n",
       "      <td>-73.994149</td>\n",
       "      <td>40.751118</td>\n",
       "      <td>-73.960064</td>\n",
       "      <td>40.766235</td>\n",
       "      <td>2</td>\n",
       "      <td>3.326763</td>\n",
       "      <td>2010-04-17 07:23:26</td>\n",
       "    </tr>\n",
       "    <tr>\n",
       "      <th>3</th>\n",
       "      <td>2010-04-11 21:25:03 UTC</td>\n",
       "      <td>8.9</td>\n",
       "      <td>0</td>\n",
       "      <td>-73.990485</td>\n",
       "      <td>40.756422</td>\n",
       "      <td>-73.971205</td>\n",
       "      <td>40.748192</td>\n",
       "      <td>1</td>\n",
       "      <td>1.864129</td>\n",
       "      <td>2010-04-11 17:25:03</td>\n",
       "    </tr>\n",
       "    <tr>\n",
       "      <th>4</th>\n",
       "      <td>2010-04-17 02:19:01 UTC</td>\n",
       "      <td>19.7</td>\n",
       "      <td>1</td>\n",
       "      <td>-73.990976</td>\n",
       "      <td>40.734202</td>\n",
       "      <td>-73.905956</td>\n",
       "      <td>40.743115</td>\n",
       "      <td>1</td>\n",
       "      <td>7.231321</td>\n",
       "      <td>2010-04-16 22:19:01</td>\n",
       "    </tr>\n",
       "  </tbody>\n",
       "</table>\n",
       "</div>"
      ],
      "text/plain": [
       "           pickup_datetime  fare_amount  fare_class  pickup_longitude  \\\n",
       "0  2010-04-19 08:17:56 UTC          6.5           0        -73.992365   \n",
       "1  2010-04-17 15:43:53 UTC          6.9           0        -73.990078   \n",
       "2  2010-04-17 11:23:26 UTC         10.1           1        -73.994149   \n",
       "3  2010-04-11 21:25:03 UTC          8.9           0        -73.990485   \n",
       "4  2010-04-17 02:19:01 UTC         19.7           1        -73.990976   \n",
       "\n",
       "   pickup_latitude  dropoff_longitude  dropoff_latitude  passenger_count  \\\n",
       "0        40.730521         -73.975499         40.744746                1   \n",
       "1        40.740558         -73.974232         40.744114                1   \n",
       "2        40.751118         -73.960064         40.766235                2   \n",
       "3        40.756422         -73.971205         40.748192                1   \n",
       "4        40.734202         -73.905956         40.743115                1   \n",
       "\n",
       "   distance        nyc_datetime  \n",
       "0  2.126312 2010-04-19 04:17:56  \n",
       "1  1.392307 2010-04-17 11:43:53  \n",
       "2  3.326763 2010-04-17 07:23:26  \n",
       "3  1.864129 2010-04-11 17:25:03  \n",
       "4  7.231321 2010-04-16 22:19:01  "
      ]
     },
     "execution_count": 8,
     "metadata": {},
     "output_type": "execute_result"
    }
   ],
   "source": [
    "# convert the pickup_datetime to date_time object\n",
    "df[\"nyc_datetime\"] = pd.to_datetime(df['pickup_datetime'].str[:-3]) - pd.Timedelta(hours=4)\n",
    "print(type(df[\"nyc_datetime\"][0]))\n",
    "df.head()"
   ]
  },
  {
   "cell_type": "code",
   "execution_count": 9,
   "id": "44c358bf",
   "metadata": {},
   "outputs": [
    {
     "data": {
      "text/html": [
       "<div>\n",
       "<style scoped>\n",
       "    .dataframe tbody tr th:only-of-type {\n",
       "        vertical-align: middle;\n",
       "    }\n",
       "\n",
       "    .dataframe tbody tr th {\n",
       "        vertical-align: top;\n",
       "    }\n",
       "\n",
       "    .dataframe thead th {\n",
       "        text-align: right;\n",
       "    }\n",
       "</style>\n",
       "<table border=\"1\" class=\"dataframe\">\n",
       "  <thead>\n",
       "    <tr style=\"text-align: right;\">\n",
       "      <th></th>\n",
       "      <th>pickup_datetime</th>\n",
       "      <th>fare_amount</th>\n",
       "      <th>fare_class</th>\n",
       "      <th>pickup_longitude</th>\n",
       "      <th>pickup_latitude</th>\n",
       "      <th>dropoff_longitude</th>\n",
       "      <th>dropoff_latitude</th>\n",
       "      <th>passenger_count</th>\n",
       "      <th>distance</th>\n",
       "      <th>nyc_datetime</th>\n",
       "      <th>Hour</th>\n",
       "    </tr>\n",
       "  </thead>\n",
       "  <tbody>\n",
       "    <tr>\n",
       "      <th>0</th>\n",
       "      <td>2010-04-19 08:17:56 UTC</td>\n",
       "      <td>6.5</td>\n",
       "      <td>0</td>\n",
       "      <td>-73.992365</td>\n",
       "      <td>40.730521</td>\n",
       "      <td>-73.975499</td>\n",
       "      <td>40.744746</td>\n",
       "      <td>1</td>\n",
       "      <td>2.126312</td>\n",
       "      <td>2010-04-19 04:17:56</td>\n",
       "      <td>4</td>\n",
       "    </tr>\n",
       "    <tr>\n",
       "      <th>1</th>\n",
       "      <td>2010-04-17 15:43:53 UTC</td>\n",
       "      <td>6.9</td>\n",
       "      <td>0</td>\n",
       "      <td>-73.990078</td>\n",
       "      <td>40.740558</td>\n",
       "      <td>-73.974232</td>\n",
       "      <td>40.744114</td>\n",
       "      <td>1</td>\n",
       "      <td>1.392307</td>\n",
       "      <td>2010-04-17 11:43:53</td>\n",
       "      <td>11</td>\n",
       "    </tr>\n",
       "  </tbody>\n",
       "</table>\n",
       "</div>"
      ],
      "text/plain": [
       "           pickup_datetime  fare_amount  fare_class  pickup_longitude  \\\n",
       "0  2010-04-19 08:17:56 UTC          6.5           0        -73.992365   \n",
       "1  2010-04-17 15:43:53 UTC          6.9           0        -73.990078   \n",
       "\n",
       "   pickup_latitude  dropoff_longitude  dropoff_latitude  passenger_count  \\\n",
       "0        40.730521         -73.975499         40.744746                1   \n",
       "1        40.740558         -73.974232         40.744114                1   \n",
       "\n",
       "   distance        nyc_datetime  Hour  \n",
       "0  2.126312 2010-04-19 04:17:56     4  \n",
       "1  1.392307 2010-04-17 11:43:53    11  "
      ]
     },
     "execution_count": 9,
     "metadata": {},
     "output_type": "execute_result"
    }
   ],
   "source": [
    "#get hours\n",
    "df[\"Hour\"] = df[\"nyc_datetime\"].dt.hour\n",
    "df.head(2)"
   ]
  },
  {
   "cell_type": "code",
   "execution_count": 10,
   "id": "a54c7ff5",
   "metadata": {},
   "outputs": [
    {
     "data": {
      "text/html": [
       "<div>\n",
       "<style scoped>\n",
       "    .dataframe tbody tr th:only-of-type {\n",
       "        vertical-align: middle;\n",
       "    }\n",
       "\n",
       "    .dataframe tbody tr th {\n",
       "        vertical-align: top;\n",
       "    }\n",
       "\n",
       "    .dataframe thead th {\n",
       "        text-align: right;\n",
       "    }\n",
       "</style>\n",
       "<table border=\"1\" class=\"dataframe\">\n",
       "  <thead>\n",
       "    <tr style=\"text-align: right;\">\n",
       "      <th></th>\n",
       "      <th>pickup_datetime</th>\n",
       "      <th>fare_amount</th>\n",
       "      <th>fare_class</th>\n",
       "      <th>pickup_longitude</th>\n",
       "      <th>pickup_latitude</th>\n",
       "      <th>dropoff_longitude</th>\n",
       "      <th>dropoff_latitude</th>\n",
       "      <th>passenger_count</th>\n",
       "      <th>distance</th>\n",
       "      <th>nyc_datetime</th>\n",
       "      <th>Hour</th>\n",
       "      <th>AMorPM</th>\n",
       "    </tr>\n",
       "  </thead>\n",
       "  <tbody>\n",
       "    <tr>\n",
       "      <th>0</th>\n",
       "      <td>2010-04-19 08:17:56 UTC</td>\n",
       "      <td>6.5</td>\n",
       "      <td>0</td>\n",
       "      <td>-73.992365</td>\n",
       "      <td>40.730521</td>\n",
       "      <td>-73.975499</td>\n",
       "      <td>40.744746</td>\n",
       "      <td>1</td>\n",
       "      <td>2.126312</td>\n",
       "      <td>2010-04-19 04:17:56</td>\n",
       "      <td>4</td>\n",
       "      <td>am</td>\n",
       "    </tr>\n",
       "    <tr>\n",
       "      <th>1</th>\n",
       "      <td>2010-04-17 15:43:53 UTC</td>\n",
       "      <td>6.9</td>\n",
       "      <td>0</td>\n",
       "      <td>-73.990078</td>\n",
       "      <td>40.740558</td>\n",
       "      <td>-73.974232</td>\n",
       "      <td>40.744114</td>\n",
       "      <td>1</td>\n",
       "      <td>1.392307</td>\n",
       "      <td>2010-04-17 11:43:53</td>\n",
       "      <td>11</td>\n",
       "      <td>am</td>\n",
       "    </tr>\n",
       "    <tr>\n",
       "      <th>2</th>\n",
       "      <td>2010-04-17 11:23:26 UTC</td>\n",
       "      <td>10.1</td>\n",
       "      <td>1</td>\n",
       "      <td>-73.994149</td>\n",
       "      <td>40.751118</td>\n",
       "      <td>-73.960064</td>\n",
       "      <td>40.766235</td>\n",
       "      <td>2</td>\n",
       "      <td>3.326763</td>\n",
       "      <td>2010-04-17 07:23:26</td>\n",
       "      <td>7</td>\n",
       "      <td>am</td>\n",
       "    </tr>\n",
       "    <tr>\n",
       "      <th>3</th>\n",
       "      <td>2010-04-11 21:25:03 UTC</td>\n",
       "      <td>8.9</td>\n",
       "      <td>0</td>\n",
       "      <td>-73.990485</td>\n",
       "      <td>40.756422</td>\n",
       "      <td>-73.971205</td>\n",
       "      <td>40.748192</td>\n",
       "      <td>1</td>\n",
       "      <td>1.864129</td>\n",
       "      <td>2010-04-11 17:25:03</td>\n",
       "      <td>17</td>\n",
       "      <td>pm</td>\n",
       "    </tr>\n",
       "    <tr>\n",
       "      <th>4</th>\n",
       "      <td>2010-04-17 02:19:01 UTC</td>\n",
       "      <td>19.7</td>\n",
       "      <td>1</td>\n",
       "      <td>-73.990976</td>\n",
       "      <td>40.734202</td>\n",
       "      <td>-73.905956</td>\n",
       "      <td>40.743115</td>\n",
       "      <td>1</td>\n",
       "      <td>7.231321</td>\n",
       "      <td>2010-04-16 22:19:01</td>\n",
       "      <td>22</td>\n",
       "      <td>pm</td>\n",
       "    </tr>\n",
       "  </tbody>\n",
       "</table>\n",
       "</div>"
      ],
      "text/plain": [
       "           pickup_datetime  fare_amount  fare_class  pickup_longitude  \\\n",
       "0  2010-04-19 08:17:56 UTC          6.5           0        -73.992365   \n",
       "1  2010-04-17 15:43:53 UTC          6.9           0        -73.990078   \n",
       "2  2010-04-17 11:23:26 UTC         10.1           1        -73.994149   \n",
       "3  2010-04-11 21:25:03 UTC          8.9           0        -73.990485   \n",
       "4  2010-04-17 02:19:01 UTC         19.7           1        -73.990976   \n",
       "\n",
       "   pickup_latitude  dropoff_longitude  dropoff_latitude  passenger_count  \\\n",
       "0        40.730521         -73.975499         40.744746                1   \n",
       "1        40.740558         -73.974232         40.744114                1   \n",
       "2        40.751118         -73.960064         40.766235                2   \n",
       "3        40.756422         -73.971205         40.748192                1   \n",
       "4        40.734202         -73.905956         40.743115                1   \n",
       "\n",
       "   distance        nyc_datetime  Hour AMorPM  \n",
       "0  2.126312 2010-04-19 04:17:56     4     am  \n",
       "1  1.392307 2010-04-17 11:43:53    11     am  \n",
       "2  3.326763 2010-04-17 07:23:26     7     am  \n",
       "3  1.864129 2010-04-11 17:25:03    17     pm  \n",
       "4  7.231321 2010-04-16 22:19:01    22     pm  "
      ]
     },
     "execution_count": 10,
     "metadata": {},
     "output_type": "execute_result"
    }
   ],
   "source": [
    "#get the am am feature\n",
    "\n",
    "# df[\"AMorPM\"] = np.where(df[\"Hour\"]<12 ,\"am\", \"pm\")\n",
    "#both are same\n",
    "df[\"AMorPM\"] = df[\"nyc_datetime\"].dt.strftime(\"%p\").str.lower()\n",
    "df.head(5)"
   ]
  },
  {
   "cell_type": "code",
   "execution_count": 11,
   "id": "7b39f42b",
   "metadata": {},
   "outputs": [
    {
     "data": {
      "text/html": [
       "<div>\n",
       "<style scoped>\n",
       "    .dataframe tbody tr th:only-of-type {\n",
       "        vertical-align: middle;\n",
       "    }\n",
       "\n",
       "    .dataframe tbody tr th {\n",
       "        vertical-align: top;\n",
       "    }\n",
       "\n",
       "    .dataframe thead th {\n",
       "        text-align: right;\n",
       "    }\n",
       "</style>\n",
       "<table border=\"1\" class=\"dataframe\">\n",
       "  <thead>\n",
       "    <tr style=\"text-align: right;\">\n",
       "      <th></th>\n",
       "      <th>pickup_datetime</th>\n",
       "      <th>fare_amount</th>\n",
       "      <th>fare_class</th>\n",
       "      <th>pickup_longitude</th>\n",
       "      <th>pickup_latitude</th>\n",
       "      <th>dropoff_longitude</th>\n",
       "      <th>dropoff_latitude</th>\n",
       "      <th>passenger_count</th>\n",
       "      <th>distance</th>\n",
       "      <th>nyc_datetime</th>\n",
       "      <th>Hour</th>\n",
       "      <th>AMorPM</th>\n",
       "      <th>Weekday</th>\n",
       "    </tr>\n",
       "  </thead>\n",
       "  <tbody>\n",
       "    <tr>\n",
       "      <th>0</th>\n",
       "      <td>2010-04-19 08:17:56 UTC</td>\n",
       "      <td>6.5</td>\n",
       "      <td>0</td>\n",
       "      <td>-73.992365</td>\n",
       "      <td>40.730521</td>\n",
       "      <td>-73.975499</td>\n",
       "      <td>40.744746</td>\n",
       "      <td>1</td>\n",
       "      <td>2.126312</td>\n",
       "      <td>2010-04-19 04:17:56</td>\n",
       "      <td>4</td>\n",
       "      <td>am</td>\n",
       "      <td>Mon</td>\n",
       "    </tr>\n",
       "    <tr>\n",
       "      <th>1</th>\n",
       "      <td>2010-04-17 15:43:53 UTC</td>\n",
       "      <td>6.9</td>\n",
       "      <td>0</td>\n",
       "      <td>-73.990078</td>\n",
       "      <td>40.740558</td>\n",
       "      <td>-73.974232</td>\n",
       "      <td>40.744114</td>\n",
       "      <td>1</td>\n",
       "      <td>1.392307</td>\n",
       "      <td>2010-04-17 11:43:53</td>\n",
       "      <td>11</td>\n",
       "      <td>am</td>\n",
       "      <td>Sat</td>\n",
       "    </tr>\n",
       "    <tr>\n",
       "      <th>2</th>\n",
       "      <td>2010-04-17 11:23:26 UTC</td>\n",
       "      <td>10.1</td>\n",
       "      <td>1</td>\n",
       "      <td>-73.994149</td>\n",
       "      <td>40.751118</td>\n",
       "      <td>-73.960064</td>\n",
       "      <td>40.766235</td>\n",
       "      <td>2</td>\n",
       "      <td>3.326763</td>\n",
       "      <td>2010-04-17 07:23:26</td>\n",
       "      <td>7</td>\n",
       "      <td>am</td>\n",
       "      <td>Sat</td>\n",
       "    </tr>\n",
       "    <tr>\n",
       "      <th>3</th>\n",
       "      <td>2010-04-11 21:25:03 UTC</td>\n",
       "      <td>8.9</td>\n",
       "      <td>0</td>\n",
       "      <td>-73.990485</td>\n",
       "      <td>40.756422</td>\n",
       "      <td>-73.971205</td>\n",
       "      <td>40.748192</td>\n",
       "      <td>1</td>\n",
       "      <td>1.864129</td>\n",
       "      <td>2010-04-11 17:25:03</td>\n",
       "      <td>17</td>\n",
       "      <td>pm</td>\n",
       "      <td>Sun</td>\n",
       "    </tr>\n",
       "    <tr>\n",
       "      <th>4</th>\n",
       "      <td>2010-04-17 02:19:01 UTC</td>\n",
       "      <td>19.7</td>\n",
       "      <td>1</td>\n",
       "      <td>-73.990976</td>\n",
       "      <td>40.734202</td>\n",
       "      <td>-73.905956</td>\n",
       "      <td>40.743115</td>\n",
       "      <td>1</td>\n",
       "      <td>7.231321</td>\n",
       "      <td>2010-04-16 22:19:01</td>\n",
       "      <td>22</td>\n",
       "      <td>pm</td>\n",
       "      <td>Fri</td>\n",
       "    </tr>\n",
       "  </tbody>\n",
       "</table>\n",
       "</div>"
      ],
      "text/plain": [
       "           pickup_datetime  fare_amount  fare_class  pickup_longitude  \\\n",
       "0  2010-04-19 08:17:56 UTC          6.5           0        -73.992365   \n",
       "1  2010-04-17 15:43:53 UTC          6.9           0        -73.990078   \n",
       "2  2010-04-17 11:23:26 UTC         10.1           1        -73.994149   \n",
       "3  2010-04-11 21:25:03 UTC          8.9           0        -73.990485   \n",
       "4  2010-04-17 02:19:01 UTC         19.7           1        -73.990976   \n",
       "\n",
       "   pickup_latitude  dropoff_longitude  dropoff_latitude  passenger_count  \\\n",
       "0        40.730521         -73.975499         40.744746                1   \n",
       "1        40.740558         -73.974232         40.744114                1   \n",
       "2        40.751118         -73.960064         40.766235                2   \n",
       "3        40.756422         -73.971205         40.748192                1   \n",
       "4        40.734202         -73.905956         40.743115                1   \n",
       "\n",
       "   distance        nyc_datetime  Hour AMorPM Weekday  \n",
       "0  2.126312 2010-04-19 04:17:56     4     am     Mon  \n",
       "1  1.392307 2010-04-17 11:43:53    11     am     Sat  \n",
       "2  3.326763 2010-04-17 07:23:26     7     am     Sat  \n",
       "3  1.864129 2010-04-11 17:25:03    17     pm     Sun  \n",
       "4  7.231321 2010-04-16 22:19:01    22     pm     Fri  "
      ]
     },
     "execution_count": 11,
     "metadata": {},
     "output_type": "execute_result"
    }
   ],
   "source": [
    "# get the weekday feature\n",
    "\n",
    "df[\"Weekday\"] = df[\"nyc_datetime\"].dt.strftime(\"%a\")\n",
    "df.head()"
   ]
  },
  {
   "cell_type": "markdown",
   "id": "7cbefaa2",
   "metadata": {},
   "source": [
    "### taking the hour, weekday and am/pm as categorical data"
   ]
  },
  {
   "cell_type": "code",
   "execution_count": 12,
   "id": "5ddb1f20",
   "metadata": {},
   "outputs": [
    {
     "data": {
      "text/plain": [
       "Index(['pickup_datetime', 'fare_amount', 'fare_class', 'pickup_longitude',\n",
       "       'pickup_latitude', 'dropoff_longitude', 'dropoff_latitude',\n",
       "       'passenger_count', 'distance', 'nyc_datetime', 'Hour', 'AMorPM',\n",
       "       'Weekday'],\n",
       "      dtype='object')"
      ]
     },
     "execution_count": 12,
     "metadata": {},
     "output_type": "execute_result"
    }
   ],
   "source": [
    "df.columns"
   ]
  },
  {
   "cell_type": "code",
   "execution_count": 13,
   "id": "db3fc2ae",
   "metadata": {},
   "outputs": [],
   "source": [
    "categorical_cols = ['Hour', 'AMorPM','Weekday']\n",
    "continuous_cols = ['pickup_longitude',\n",
    "       'pickup_latitude', 'dropoff_longitude', 'dropoff_latitude',\n",
    "       'passenger_count', 'distance']\n",
    "y_cols = ['fare_amount'] #final value to be predicted"
   ]
  },
  {
   "cell_type": "markdown",
   "id": "ba29fe58",
   "metadata": {},
   "source": [
    "### convert the categorical columns into categories"
   ]
  },
  {
   "cell_type": "code",
   "execution_count": 14,
   "id": "dfcf1991",
   "metadata": {},
   "outputs": [
    {
     "name": "stdout",
     "output_type": "stream",
     "text": [
      "0    am\n",
      "1    am\n",
      "2    am\n",
      "3    pm\n",
      "4    pm\n",
      "Name: AMorPM, dtype: object 0    am\n",
      "1    am\n",
      "2    am\n",
      "3    pm\n",
      "4    pm\n",
      "Name: AMorPM, dtype: category\n",
      "Categories (2, object): [am, pm]\n"
     ]
    },
    {
     "data": {
      "text/html": [
       "<div>\n",
       "<style scoped>\n",
       "    .dataframe tbody tr th:only-of-type {\n",
       "        vertical-align: middle;\n",
       "    }\n",
       "\n",
       "    .dataframe tbody tr th {\n",
       "        vertical-align: top;\n",
       "    }\n",
       "\n",
       "    .dataframe thead th {\n",
       "        text-align: right;\n",
       "    }\n",
       "</style>\n",
       "<table border=\"1\" class=\"dataframe\">\n",
       "  <thead>\n",
       "    <tr style=\"text-align: right;\">\n",
       "      <th></th>\n",
       "      <th>pickup_datetime</th>\n",
       "      <th>fare_amount</th>\n",
       "      <th>fare_class</th>\n",
       "      <th>pickup_longitude</th>\n",
       "      <th>pickup_latitude</th>\n",
       "      <th>dropoff_longitude</th>\n",
       "      <th>dropoff_latitude</th>\n",
       "      <th>passenger_count</th>\n",
       "      <th>distance</th>\n",
       "      <th>nyc_datetime</th>\n",
       "      <th>Hour</th>\n",
       "      <th>AMorPM</th>\n",
       "      <th>Weekday</th>\n",
       "    </tr>\n",
       "  </thead>\n",
       "  <tbody>\n",
       "    <tr>\n",
       "      <th>0</th>\n",
       "      <td>2010-04-19 08:17:56 UTC</td>\n",
       "      <td>6.5</td>\n",
       "      <td>0</td>\n",
       "      <td>-73.992365</td>\n",
       "      <td>40.730521</td>\n",
       "      <td>-73.975499</td>\n",
       "      <td>40.744746</td>\n",
       "      <td>1</td>\n",
       "      <td>2.126312</td>\n",
       "      <td>2010-04-19 04:17:56</td>\n",
       "      <td>4</td>\n",
       "      <td>am</td>\n",
       "      <td>Mon</td>\n",
       "    </tr>\n",
       "    <tr>\n",
       "      <th>1</th>\n",
       "      <td>2010-04-17 15:43:53 UTC</td>\n",
       "      <td>6.9</td>\n",
       "      <td>0</td>\n",
       "      <td>-73.990078</td>\n",
       "      <td>40.740558</td>\n",
       "      <td>-73.974232</td>\n",
       "      <td>40.744114</td>\n",
       "      <td>1</td>\n",
       "      <td>1.392307</td>\n",
       "      <td>2010-04-17 11:43:53</td>\n",
       "      <td>11</td>\n",
       "      <td>am</td>\n",
       "      <td>Sat</td>\n",
       "    </tr>\n",
       "    <tr>\n",
       "      <th>2</th>\n",
       "      <td>2010-04-17 11:23:26 UTC</td>\n",
       "      <td>10.1</td>\n",
       "      <td>1</td>\n",
       "      <td>-73.994149</td>\n",
       "      <td>40.751118</td>\n",
       "      <td>-73.960064</td>\n",
       "      <td>40.766235</td>\n",
       "      <td>2</td>\n",
       "      <td>3.326763</td>\n",
       "      <td>2010-04-17 07:23:26</td>\n",
       "      <td>7</td>\n",
       "      <td>am</td>\n",
       "      <td>Sat</td>\n",
       "    </tr>\n",
       "    <tr>\n",
       "      <th>3</th>\n",
       "      <td>2010-04-11 21:25:03 UTC</td>\n",
       "      <td>8.9</td>\n",
       "      <td>0</td>\n",
       "      <td>-73.990485</td>\n",
       "      <td>40.756422</td>\n",
       "      <td>-73.971205</td>\n",
       "      <td>40.748192</td>\n",
       "      <td>1</td>\n",
       "      <td>1.864129</td>\n",
       "      <td>2010-04-11 17:25:03</td>\n",
       "      <td>17</td>\n",
       "      <td>pm</td>\n",
       "      <td>Sun</td>\n",
       "    </tr>\n",
       "    <tr>\n",
       "      <th>4</th>\n",
       "      <td>2010-04-17 02:19:01 UTC</td>\n",
       "      <td>19.7</td>\n",
       "      <td>1</td>\n",
       "      <td>-73.990976</td>\n",
       "      <td>40.734202</td>\n",
       "      <td>-73.905956</td>\n",
       "      <td>40.743115</td>\n",
       "      <td>1</td>\n",
       "      <td>7.231321</td>\n",
       "      <td>2010-04-16 22:19:01</td>\n",
       "      <td>22</td>\n",
       "      <td>pm</td>\n",
       "      <td>Fri</td>\n",
       "    </tr>\n",
       "  </tbody>\n",
       "</table>\n",
       "</div>"
      ],
      "text/plain": [
       "           pickup_datetime  fare_amount  fare_class  pickup_longitude  \\\n",
       "0  2010-04-19 08:17:56 UTC          6.5           0        -73.992365   \n",
       "1  2010-04-17 15:43:53 UTC          6.9           0        -73.990078   \n",
       "2  2010-04-17 11:23:26 UTC         10.1           1        -73.994149   \n",
       "3  2010-04-11 21:25:03 UTC          8.9           0        -73.990485   \n",
       "4  2010-04-17 02:19:01 UTC         19.7           1        -73.990976   \n",
       "\n",
       "   pickup_latitude  dropoff_longitude  dropoff_latitude  passenger_count  \\\n",
       "0        40.730521         -73.975499         40.744746                1   \n",
       "1        40.740558         -73.974232         40.744114                1   \n",
       "2        40.751118         -73.960064         40.766235                2   \n",
       "3        40.756422         -73.971205         40.748192                1   \n",
       "4        40.734202         -73.905956         40.743115                1   \n",
       "\n",
       "   distance        nyc_datetime  Hour AMorPM Weekday  \n",
       "0  2.126312 2010-04-19 04:17:56     4     am     Mon  \n",
       "1  1.392307 2010-04-17 11:43:53    11     am     Sat  \n",
       "2  3.326763 2010-04-17 07:23:26     7     am     Sat  \n",
       "3  1.864129 2010-04-11 17:25:03    17     pm     Sun  \n",
       "4  7.231321 2010-04-16 22:19:01    22     pm     Fri  "
      ]
     },
     "execution_count": 14,
     "metadata": {},
     "output_type": "execute_result"
    }
   ],
   "source": [
    "print(df['AMorPM'][:5],df['AMorPM'][:5].astype('category'))\n",
    "df.head()"
   ]
  },
  {
   "cell_type": "code",
   "execution_count": 15,
   "id": "ee6932db",
   "metadata": {},
   "outputs": [],
   "source": [
    "for cats in categorical_cols:\n",
    "    df[cats]= df[cats].astype('category')"
   ]
  },
  {
   "cell_type": "code",
   "execution_count": 16,
   "id": "b24de2a9",
   "metadata": {},
   "outputs": [
    {
     "data": {
      "text/plain": [
       "0    am\n",
       "1    am\n",
       "2    am\n",
       "3    pm\n",
       "4    pm\n",
       "Name: AMorPM, dtype: category\n",
       "Categories (2, object): [am, pm]"
      ]
     },
     "execution_count": 16,
     "metadata": {},
     "output_type": "execute_result"
    }
   ],
   "source": [
    "df[\"AMorPM\"].head()"
   ]
  },
  {
   "cell_type": "code",
   "execution_count": 61,
   "id": "b3fbbdda",
   "metadata": {},
   "outputs": [
    {
     "data": {
      "text/plain": [
       "(Index(['Fri', 'Mon', 'Sat', 'Sun', 'Thu', 'Tue', 'Wed'], dtype='object'),\n",
       " array([1, 2, 2, 3, 0], dtype=int8))"
      ]
     },
     "execution_count": 61,
     "metadata": {},
     "output_type": "execute_result"
    }
   ],
   "source": [
    "df[\"Weekday\"].cat.categories ,df[\"Weekday\"].head().cat.codes.values"
   ]
  },
  {
   "cell_type": "markdown",
   "id": "7ecc15d2",
   "metadata": {},
   "source": [
    "### combine the codes columns into one input array using np.stack, only the values"
   ]
  },
  {
   "cell_type": "code",
   "execution_count": 18,
   "id": "b534f1dd",
   "metadata": {},
   "outputs": [
    {
     "name": "stdout",
     "output_type": "stream",
     "text": [
      "[ 4 11  7 17 22] [1 2 2 3 0] [0 0 0 1 1]\n",
      "[[ 4  0  1]\n",
      " [11  0  2]\n",
      " [ 7  0  2]\n",
      " [17  1  3]\n",
      " [22  1  0]]\n",
      "[[ 4 11  7 ... 14  4 12]\n",
      " [ 0  0  0 ...  1  0  1]\n",
      " [ 1  2  2 ...  3  5  2]]\n"
     ]
    }
   ],
   "source": [
    "hr=df[\"Hour\"].cat.codes.values\n",
    "ap =df[\"AMorPM\"].cat.codes.values\n",
    "week=df[\"Weekday\"].cat.codes.values\n",
    "\n",
    "print(hr[:5],week[:5],ap[:5])\n",
    "\n",
    "cats = np.stack([hr,ap,week] , axis =1) #columnwise\n",
    "\n",
    "print(cats[:5])\n",
    "\n",
    "cats_row = np.stack([hr,ap,week] , axis =0) #rowwise\n",
    "\n",
    "print(cats_row[:5])"
   ]
  },
  {
   "cell_type": "markdown",
   "id": "ad9a8d91",
   "metadata": {},
   "source": [
    "### Convert the numpy arrays into tensors"
   ]
  },
  {
   "cell_type": "code",
   "execution_count": 58,
   "id": "9f8ab64c",
   "metadata": {},
   "outputs": [
    {
     "name": "stderr",
     "output_type": "stream",
     "text": [
      "C:\\Users\\shashan3\\Anaconda3\\envs\\pytorchenv\\lib\\site-packages\\ipykernel_launcher.py:1: UserWarning: To copy construct from a tensor, it is recommended to use sourceTensor.clone().detach() or sourceTensor.clone().detach().requires_grad_(True), rather than torch.tensor(sourceTensor).\n",
      "  \"\"\"Entry point for launching an IPython kernel.\n"
     ]
    },
    {
     "data": {
      "text/plain": [
       "torch.int64"
      ]
     },
     "execution_count": 58,
     "metadata": {},
     "output_type": "execute_result"
    }
   ],
   "source": [
    "cats = torch.tensor(cats,dtype=torch.int64)\n",
    "cats[0].dtype"
   ]
  },
  {
   "cell_type": "markdown",
   "id": "7bc4efa8",
   "metadata": {},
   "source": [
    "Also convert the continues variables into torch tensors\n",
    "##### It is important to store the continuous features into Float (float32) tensors and not Double (float64) in order for the batch normalization to work properly "
   ]
  },
  {
   "cell_type": "code",
   "execution_count": 20,
   "id": "cf7d9918",
   "metadata": {},
   "outputs": [
    {
     "data": {
      "text/plain": [
       "tensor([[-73.9924,  40.7305, -73.9755,  40.7447,   1.0000,   2.1263],\n",
       "        [-73.9901,  40.7406, -73.9742,  40.7441,   1.0000,   1.3923],\n",
       "        [-73.9941,  40.7511, -73.9601,  40.7662,   2.0000,   3.3268],\n",
       "        [-73.9905,  40.7564, -73.9712,  40.7482,   1.0000,   1.8641],\n",
       "        [-73.9910,  40.7342, -73.9060,  40.7431,   1.0000,   7.2313]])"
      ]
     },
     "execution_count": 20,
     "metadata": {},
     "output_type": "execute_result"
    }
   ],
   "source": [
    "conts = np.stack([df[col] for col in continuous_cols], axis=1)\n",
    "conts = torch.tensor(conts, dtype=torch.float)\n",
    "\n",
    "conts[:5]"
   ]
  },
  {
   "cell_type": "code",
   "execution_count": 21,
   "id": "b20326b5",
   "metadata": {},
   "outputs": [
    {
     "data": {
      "text/plain": [
       "('torch.LongTensor', 'torch.FloatTensor', str, torch.int64, torch.float32)"
      ]
     },
     "execution_count": 21,
     "metadata": {},
     "output_type": "execute_result"
    }
   ],
   "source": [
    "cats.type(),conts.type(),type(cats[0].type()),cats.dtype,conts.dtype"
   ]
  },
  {
   "cell_type": "markdown",
   "id": "2b7e3121",
   "metadata": {},
   "source": [
    "get torch tensors for the fare amount "
   ]
  },
  {
   "cell_type": "code",
   "execution_count": 56,
   "id": "f6b35551",
   "metadata": {},
   "outputs": [
    {
     "data": {
      "text/plain": [
       "(torch.Size([120000, 1]), False)"
      ]
     },
     "execution_count": 56,
     "metadata": {},
     "output_type": "execute_result"
    }
   ],
   "source": [
    "y=torch.tensor(df[\"fare_amount\"],dtype=torch.float).reshape(-1,1)\n",
    "y.shape,y.requires_grad"
   ]
  },
  {
   "cell_type": "code",
   "execution_count": 23,
   "id": "b96f9f57",
   "metadata": {},
   "outputs": [
    {
     "data": {
      "text/plain": [
       "(torch.Size([120000, 3]), torch.Size([120000, 6]), torch.Size([120000, 1]))"
      ]
     },
     "execution_count": 23,
     "metadata": {},
     "output_type": "execute_result"
    }
   ],
   "source": [
    "cats.shape,conts.shape,y.shape"
   ]
  },
  {
   "cell_type": "code",
   "execution_count": 24,
   "id": "9fe8ff24",
   "metadata": {},
   "outputs": [
    {
     "data": {
      "text/plain": [
       "(tensor([[ 4,  0,  1],\n",
       "         [11,  0,  2],\n",
       "         [ 7,  0,  2]]),\n",
       " tensor([[-73.9924,  40.7305, -73.9755,  40.7447,   1.0000,   2.1263],\n",
       "         [-73.9901,  40.7406, -73.9742,  40.7441,   1.0000,   1.3923],\n",
       "         [-73.9941,  40.7511, -73.9601,  40.7662,   2.0000,   3.3268]]),\n",
       " tensor([[ 6.5000],\n",
       "         [ 6.9000],\n",
       "         [10.1000]]))"
      ]
     },
     "execution_count": 24,
     "metadata": {},
     "output_type": "execute_result"
    }
   ],
   "source": [
    "cats[:3],conts[:3],y[:3]"
   ]
  },
  {
   "cell_type": "markdown",
   "id": "f228ac69",
   "metadata": {},
   "source": [
    "# Embedding the categorical data with tensor\n",
    "\n",
    "Docstring of nn.Embedding module\n",
    "\n",
    "nn.Embedding( <br>\n",
    "&nbsp;&nbsp;&nbsp;&nbsp;num_embeddings: int, size of the dictionary of embeddings that is the number of distinct number that need to be encoded<br> \n",
    "&nbsp;&nbsp;&nbsp;&nbsp;embedding_dim: int, the size of each embedding vector<br>\n",
    "&nbsp;&nbsp;&nbsp;&nbsp;padding_idx: Union[int, NoneType] = None,\n",
    "&nbsp;&nbsp;&nbsp;&nbsp;max_norm: Union[float, NoneType] = None,\n",
    "&nbsp;&nbsp;&nbsp;&nbsp;norm_type: float = 2.0,\n",
    "&nbsp;&nbsp;&nbsp;&nbsp;scale_grad_by_freq: bool = False,\n",
    "&nbsp;&nbsp;&nbsp;&nbsp;sparse: bool = False,\n",
    "&nbsp;&nbsp;&nbsp;&nbsp;_weight: Union[torch.Tensor, NoneType] = None,\n",
    ") -> None\n",
    "\n",
    "Docstring:     \n",
    "A simple lookup table that stores embeddings of a fixed dictionary and size.\n",
    "\n",
    "This module is often used to store word embeddings and retrieve them using indices.\n",
    "The input to the module is a list of indices, and the output is the corresponding\n",
    "word embeddings."
   ]
  },
  {
   "cell_type": "code",
   "execution_count": 70,
   "id": "50d25381",
   "metadata": {},
   "outputs": [
    {
     "data": {
      "text/plain": [
       "tensor([[ 0.1615,  0.9810,  0.3105, -0.9346, -0.2074]],\n",
       "       grad_fn=<EmbeddingBackward>)"
      ]
     },
     "execution_count": 70,
     "metadata": {},
     "output_type": "execute_result"
    }
   ],
   "source": [
    "e=nn.Embedding(24,5)\n",
    "e(torch.tensor([0]))# more than 24 will give error as it will be out of index"
   ]
  },
  {
   "cell_type": "markdown",
   "id": "2a4560c2",
   "metadata": {},
   "source": [
    "now we need to define such embeddings and their dimesions for each of our categorical data"
   ]
  },
  {
   "cell_type": "code",
   "execution_count": 26,
   "id": "863d6b9d",
   "metadata": {},
   "outputs": [
    {
     "name": "stdout",
     "output_type": "stream",
     "text": [
      "Index(['pickup_datetime', 'fare_amount', 'fare_class', 'pickup_longitude',\n",
      "       'pickup_latitude', 'dropoff_longitude', 'dropoff_latitude',\n",
      "       'passenger_count', 'distance', 'nyc_datetime', 'Hour', 'AMorPM',\n",
      "       'Weekday'],\n",
      "      dtype='object')\n",
      "Index(['Fri', 'Mon', 'Sat', 'Sun', 'Thu', 'Tue', 'Wed'], dtype='object')\n"
     ]
    },
    {
     "data": {
      "text/plain": [
       "[24, 2, 7]"
      ]
     },
     "execution_count": 26,
     "metadata": {},
     "output_type": "execute_result"
    }
   ],
   "source": [
    "# the dimension size should not be more than 50 (ideally) ie 2^50 amount of information\n",
    "print(df.columns)\n",
    "print(df[\"Weekday\"].cat.categories)\n",
    "\n",
    "#get the number of embedding for each category\n",
    "cat_size= [len(df[col].cat.categories) for col in categorical_cols]\n",
    "cat_size"
   ]
  },
  {
   "cell_type": "code",
   "execution_count": 27,
   "id": "9a684cae",
   "metadata": {},
   "outputs": [
    {
     "data": {
      "text/plain": [
       "[(24, 12), (2, 1), (7, 4)]"
      ]
     },
     "execution_count": 27,
     "metadata": {},
     "output_type": "execute_result"
    }
   ],
   "source": [
    "#get number of dimension for each category\n",
    "emb_size = [(i , min(50 ,(i+1)//2)) for i in cat_size]\n",
    "emb_size"
   ]
  },
  {
   "cell_type": "markdown",
   "id": "3b9deacf",
   "metadata": {},
   "source": [
    "### example of how it is going to work inside model"
   ]
  },
  {
   "cell_type": "code",
   "execution_count": 28,
   "id": "d4b594dc",
   "metadata": {},
   "outputs": [
    {
     "data": {
      "text/plain": [
       "ModuleList(\n",
       "  (0): Embedding(24, 12)\n",
       "  (1): Embedding(2, 1)\n",
       "  (2): Embedding(7, 4)\n",
       ")"
      ]
     },
     "execution_count": 28,
     "metadata": {},
     "output_type": "execute_result"
    }
   ],
   "source": [
    "selfembeds = nn.ModuleList([nn.Embedding(number_of_embedding,number_of_dimension) for \\\n",
    "                          number_of_embedding,number_of_dimension in emb_size])\n",
    "selfembeds"
   ]
  },
  {
   "cell_type": "code",
   "execution_count": 29,
   "id": "ec8b44e6",
   "metadata": {},
   "outputs": [
    {
     "data": {
      "text/plain": [
       "([(0, Embedding(24, 12)), (1, Embedding(2, 1)), (2, Embedding(7, 4))],\n",
       " Embedding(24, 12),\n",
       " tensor([[ 0.6534,  2.5833, -1.0405,  1.1125, -0.3514, -0.2169, -0.0081, -1.6349,\n",
       "           0.8916, -1.5650,  0.5846,  0.1808]], grad_fn=<EmbeddingBackward>))"
      ]
     },
     "execution_count": 29,
     "metadata": {},
     "output_type": "execute_result"
    }
   ],
   "source": [
    "list(enumerate(selfembeds)),selfembeds[0],selfembeds[0](torch.tensor([3]))"
   ]
  },
  {
   "cell_type": "code",
   "execution_count": 30,
   "id": "cb1bb362",
   "metadata": {},
   "outputs": [
    {
     "name": "stdout",
     "output_type": "stream",
     "text": [
      "tensor([[4, 0, 1]])\n",
      "0 tensor([4]) tensor([[ 0.1071, -0.2859,  0.9970, -0.9753,  0.5367,  1.3498,  0.1269,  0.0713,\n",
      "          1.5402,  2.0045,  0.2895,  0.8638]], grad_fn=<EmbeddingBackward>)\n",
      "1 tensor([0]) tensor([[2.0180]], grad_fn=<EmbeddingBackward>)\n",
      "2 tensor([1]) tensor([[ 0.2905,  0.3134, -0.8809, -0.0032]], grad_fn=<EmbeddingBackward>)\n"
     ]
    }
   ],
   "source": [
    "ct = cats[:1]\n",
    "print(ct)\n",
    "embeddingz=[]\n",
    "for i ,embd in enumerate(selfembeds):\n",
    "    embs = embd(ct[:,i])\n",
    "    embeddingz.append(embs)\n",
    "    print(i,ct[:,i],embs)"
   ]
  },
  {
   "cell_type": "markdown",
   "id": "480dfb8a",
   "metadata": {},
   "source": [
    "now concatenate the different embeddings dimensions (12,1,4) into one (17)"
   ]
  },
  {
   "cell_type": "code",
   "execution_count": 31,
   "id": "1e9b561a",
   "metadata": {},
   "outputs": [
    {
     "data": {
      "text/plain": [
       "(tensor([[ 0.1071, -0.2859,  0.9970, -0.9753,  0.5367,  1.3498,  0.1269,  0.0713,\n",
       "           1.5402,  2.0045,  0.2895,  0.8638,  2.0180,  0.2905,  0.3134, -0.8809,\n",
       "          -0.0032]], grad_fn=<CatBackward>),\n",
       " torch.Size([1, 17]))"
      ]
     },
     "execution_count": 31,
     "metadata": {},
     "output_type": "execute_result"
    }
   ],
   "source": [
    "z = torch.cat(embeddingz,axis=1)\n",
    "z,z.shape"
   ]
  },
  {
   "cell_type": "markdown",
   "id": "3d1569a3",
   "metadata": {},
   "source": [
    "### set the drop outs\n",
    "\n",
    "\n",
    "\n",
    "Init signature: nn.Dropout(p: float = 0.5, inplace: bool = False) -> None <br>\n",
    "Docstring:     <br>\n",
    "During training, randomly zeroes some of the elements of the input\n",
    "tensor with probability :attr:`p` using samples from a Bernoulli\n",
    "distribution. Each channel will be zeroed out independently on every forward\n",
    "call.\n",
    "\n",
    "This has proven to be an effective technique for regularization and\n",
    "preventing the co-adaptation of neurons as described in the paper\n",
    "`Improving neural networks by preventing co-adaptation of feature\n",
    "detectors`_ ."
   ]
  },
  {
   "cell_type": "code",
   "execution_count": 32,
   "id": "4abb5e75",
   "metadata": {},
   "outputs": [],
   "source": [
    "dropouts =nn.Dropout(.4)"
   ]
  },
  {
   "cell_type": "code",
   "execution_count": 33,
   "id": "15ffb187",
   "metadata": {},
   "outputs": [
    {
     "data": {
      "text/plain": [
       "(tensor([[ 0.1071, -0.2859,  0.9970, -0.9753,  0.5367,  1.3498,  0.1269,  0.0713,\n",
       "           1.5402,  2.0045,  0.2895,  0.8638,  2.0180,  0.2905,  0.3134, -0.8809,\n",
       "          -0.0032]], grad_fn=<CatBackward>),\n",
       " tensor([[ 0.1785, -0.0000,  1.6617, -0.0000,  0.0000,  0.0000,  0.0000,  0.1189,\n",
       "           0.0000,  3.3408,  0.4825,  1.4397,  3.3633,  0.4841,  0.5223, -1.4682,\n",
       "          -0.0000]], grad_fn=<MulBackward0>))"
      ]
     },
     "execution_count": 33,
     "metadata": {},
     "output_type": "execute_result"
    }
   ],
   "source": [
    "z,dropouts(z)"
   ]
  },
  {
   "cell_type": "code",
   "execution_count": 34,
   "id": "93b611d8",
   "metadata": {},
   "outputs": [
    {
     "data": {
      "text/plain": [
       "torch.nn.modules.batchnorm.BatchNorm1d"
      ]
     },
     "execution_count": 34,
     "metadata": {},
     "output_type": "execute_result"
    }
   ],
   "source": [
    "nn.BatchNorm1d"
   ]
  },
  {
   "cell_type": "markdown",
   "id": "c49a8ee1",
   "metadata": {},
   "source": [
    "nn.ReLU\n",
    "nn.BatchNorm1d\n",
    "\n",
    "$y = \\frac{x - \\mathrm{E}[x]}{\\sqrt{\\mathrm{Var}[x] + \\epsilon}} * \\gamma + \\beta$\n",
    "\n",
    "\n",
    "$\\gamma$ and $\\beta$ are learnable parameter vectors\n",
    "of size `C` (where `C` is the input size)"
   ]
  },
  {
   "cell_type": "markdown",
   "id": "3eeb0b2e",
   "metadata": {},
   "source": [
    "# Define model"
   ]
  },
  {
   "cell_type": "code",
   "execution_count": 35,
   "id": "3a4abd52",
   "metadata": {},
   "outputs": [],
   "source": [
    "class TabModel(nn.Module):\n",
    "    def __init__(self, emb_size, continuous_dim, output_sz, layers, p=0.5):\n",
    "        \n",
    "        \"\"\"\n",
    "        emb_size: List of tuples -> with unique number of categories and number of dimension\n",
    "        for each categorical feature\n",
    "\n",
    "        continuous_dim: int -> number of dimesion of the continuous features, all combined\n",
    "\n",
    "        output_sz: int -> number of outputs, size of last layer,\n",
    "\n",
    "        layer: list of int -> list of dimension of each layer, len of layers is the number of layers\n",
    "\n",
    "        p: float -> dropout probability\n",
    "        \"\"\"         \n",
    "        super().__init__()\n",
    "\n",
    "        #embedding for categorical data in forward pass\n",
    "        self.embs = nn.ModuleList([nn.Embedding(n_unique_cats, n_dimension) for n_unique_cats,\\\n",
    "                                   n_dimension in emb_size])\n",
    "        \n",
    "        #dimension of embeddings of categorical data\n",
    "        n_cats_emb = np.sum([n_dimension for _,n_dimension in emb_size])\n",
    "        \n",
    "        #dropout layer for categorical data\n",
    "        self.emb_drop = nn.Dropout(p)\n",
    "        \n",
    "        #normalization function for continuous variables - use this in forward pass\n",
    "        self.cont_batchnorm_layer = nn.BatchNorm1d(continuous_dim)\n",
    "        \n",
    "        #dimension of input vector-> combined features \n",
    "        n_dim = n_cats_emb + continuous_dim\n",
    "        \n",
    "        #list with hold the layer in the NN\n",
    "        layerslist = []\n",
    "        \n",
    "        #itererate over the layers list, itj item is the number of neurons in ith layes\n",
    "        for i in layers:\n",
    "            layerslist.append(nn.Linear(n_dim,i)) #linear layer\n",
    "            layerslist.append(nn.ReLU(inplace=True)) #RelU\n",
    "            layerslist.append(nn.BatchNorm1d(i)) #Batch Noramlization\n",
    "            layerslist.append(nn.Dropout(p)) #Dropout layer with given p\n",
    "            n_dim = i #set the input for next layer\n",
    "    \n",
    "        layerslist.append(nn.Linear(layers[-1],output_sz))#last layer\n",
    "        self.layers = nn.Sequential(*layerslist)\n",
    "            \n",
    "    def forward(self,x_cat,x_cont):\n",
    "        embeddings = []\n",
    "        #perform steps explained earlier to embed the categorical features\n",
    "        for i,emb in enumerate(self.embs):\n",
    "            embeddings.append(emb(x_cat[:,i]))\n",
    "        #cancatenate the cat embeddings\n",
    "        x = torch.cat(embeddings, axis =1)\n",
    "        \n",
    "        #dropouts on the cats embeddings\n",
    "        x = self.emb_drop(x)\n",
    "        \n",
    "        #batch normalization on the continuous features\n",
    "        x_cont = self.cont_batchnorm_layer(x_cont)\n",
    "        \n",
    "        #concatenate the both cat and cont features\n",
    "        x = torch.cat([x,x_cont],axis =1)\n",
    "        \n",
    "        #forward pass with the architecture defined in __init__\n",
    "        x = self.layers(x)\n",
    "        \n",
    "        #eturn the outcome of the last layer\n",
    "        return x\n",
    "        "
   ]
  },
  {
   "cell_type": "code",
   "execution_count": 36,
   "id": "763bec6c",
   "metadata": {},
   "outputs": [
    {
     "data": {
      "text/plain": [
       "TabModel(\n",
       "  (embs): ModuleList(\n",
       "    (0): Embedding(24, 12)\n",
       "    (1): Embedding(2, 1)\n",
       "    (2): Embedding(7, 4)\n",
       "  )\n",
       "  (emb_drop): Dropout(p=0.4, inplace=False)\n",
       "  (cont_batchnorm_layer): BatchNorm1d(6, eps=1e-05, momentum=0.1, affine=True, track_running_stats=True)\n",
       "  (layers): Sequential(\n",
       "    (0): Linear(in_features=23, out_features=200, bias=True)\n",
       "    (1): ReLU(inplace=True)\n",
       "    (2): BatchNorm1d(200, eps=1e-05, momentum=0.1, affine=True, track_running_stats=True)\n",
       "    (3): Dropout(p=0.4, inplace=False)\n",
       "    (4): Linear(in_features=200, out_features=100, bias=True)\n",
       "    (5): ReLU(inplace=True)\n",
       "    (6): BatchNorm1d(100, eps=1e-05, momentum=0.1, affine=True, track_running_stats=True)\n",
       "    (7): Dropout(p=0.4, inplace=False)\n",
       "    (8): Linear(in_features=100, out_features=1, bias=True)\n",
       "  )\n",
       ")"
      ]
     },
     "execution_count": 36,
     "metadata": {},
     "output_type": "execute_result"
    }
   ],
   "source": [
    "#initiate the model\n",
    "model = TabModel(emb_size, conts.shape[1], 1, [200,100], p=0.4)\n",
    "model"
   ]
  },
  {
   "cell_type": "code",
   "execution_count": 54,
   "id": "cebd307b",
   "metadata": {},
   "outputs": [
    {
     "name": "stdout",
     "output_type": "stream",
     "text": [
      "torch.Size([24, 12]) torch.float32 True\n",
      "torch.Size([2, 1]) torch.float32 True\n",
      "torch.Size([7, 4]) torch.float32 True\n",
      "torch.Size([6]) torch.float32 True\n",
      "torch.Size([6]) torch.float32 True\n",
      "torch.Size([200, 23]) torch.float32 True\n",
      "torch.Size([200]) torch.float32 True\n",
      "torch.Size([200]) torch.float32 True\n",
      "torch.Size([200]) torch.float32 True\n",
      "torch.Size([100, 200]) torch.float32 True\n",
      "torch.Size([100]) torch.float32 True\n",
      "torch.Size([100]) torch.float32 True\n",
      "torch.Size([100]) torch.float32 True\n",
      "torch.Size([1, 100]) torch.float32 True\n",
      "torch.Size([1]) torch.float32 True\n"
     ]
    }
   ],
   "source": [
    "for i in model.parameters():\n",
    "    print(i.shape,i.dtype,i.requires_grad)"
   ]
  },
  {
   "cell_type": "markdown",
   "id": "0ee35122",
   "metadata": {},
   "source": [
    "# Loss and optimizer"
   ]
  },
  {
   "cell_type": "code",
   "execution_count": 38,
   "id": "3b3abc43",
   "metadata": {},
   "outputs": [],
   "source": [
    "#since this is a regression problem we will define the loss as Rootmeansquare, \n",
    "# apply torch.sqrt() fucntion to the output of nn.MSELoss() \n",
    "criterion = nn.MSELoss()\n",
    "\n",
    "#will use Adam optimizer \n",
    "optimizer = torch.optim.Adam(model.parameters(), lr= 0.01)\n",
    "\n"
   ]
  },
  {
   "cell_type": "code",
   "execution_count": 39,
   "id": "e00f360e",
   "metadata": {},
   "outputs": [
    {
     "name": "stdout",
     "output_type": "stream",
     "text": [
      "torch.Size([120000, 6])\n"
     ]
    },
    {
     "data": {
      "text/plain": [
       "torch.Size([120000, 3])"
      ]
     },
     "execution_count": 39,
     "metadata": {},
     "output_type": "execute_result"
    }
   ],
   "source": [
    "print(conts.shape)\n",
    "\n",
    "cats.shape # the embeddings for this will be learned"
   ]
  },
  {
   "cell_type": "markdown",
   "id": "14e4ff35",
   "metadata": {},
   "source": [
    "## create test train split"
   ]
  },
  {
   "cell_type": "code",
   "execution_count": 40,
   "id": "2471d211",
   "metadata": {},
   "outputs": [],
   "source": [
    "batch_size = 60000\n",
    "test_size = int(batch_size * 0.2)"
   ]
  },
  {
   "cell_type": "code",
   "execution_count": 41,
   "id": "e898432c",
   "metadata": {},
   "outputs": [
    {
     "name": "stdout",
     "output_type": "stream",
     "text": [
      "torch.Size([48000, 3])\n",
      "torch.Size([12000, 3]) 12000\n",
      "torch.Size([48000, 6])\n",
      "torch.Size([12000, 6])\n",
      "torch.Size([48000, 1])\n",
      "torch.Size([12000, 1])\n"
     ]
    }
   ],
   "source": [
    "#categorical features\n",
    "cat_train = cats[:batch_size - test_size]\n",
    "print(cat_train.shape)\n",
    "cat_test = cats[batch_size - test_size:batch_size]\n",
    "print(cat_test.shape,len(cat_test))\n",
    "\n",
    "#continuous features\n",
    "cont_train = conts[:batch_size - test_size]\n",
    "print(cont_train.shape)\n",
    "cont_test = conts[batch_size-test_size: batch_size]\n",
    "print(cont_test.shape)\n",
    "\n",
    "#labels\n",
    "y_train = y[:batch_size - test_size]\n",
    "print(y_train.shape)\n",
    "y_test =y[batch_size-test_size: batch_size]\n",
    "print(y_test.shape)"
   ]
  },
  {
   "cell_type": "markdown",
   "id": "01676f24",
   "metadata": {},
   "source": [
    "### Training"
   ]
  },
  {
   "cell_type": "code",
   "execution_count": 42,
   "id": "652d24ff",
   "metadata": {},
   "outputs": [
    {
     "name": "stdout",
     "output_type": "stream",
     "text": [
      "epoch: 0, loss: 12.607\n",
      "epoch: 10, loss: 9.682\n",
      "epoch: 20, loss: 7.925\n",
      "epoch: 30, loss: 4.791\n",
      "epoch: 40, loss: 4.141\n",
      "epoch: 50, loss: 3.560\n",
      "epoch: 60, loss: 3.469\n",
      "epoch: 70, loss: 3.421\n",
      "epoch: 80, loss: 3.342\n",
      "epoch: 90, loss: 3.333\n"
     ]
    }
   ],
   "source": [
    "start_time = time.time()\n",
    "#number of epochs\n",
    "epochs=100\n",
    "#list to accumulate losses at each epoch\n",
    "losses=[]\n",
    "\n",
    "for epoch in range(epochs):\n",
    "    #forward pass\n",
    "    y_pred = model.forward(cat_train,cont_train)\n",
    "    \n",
    "    # square root to get RMSE\n",
    "    loss = torch.sqrt(criterion(y_pred, y_train)) \n",
    "    \n",
    "    #append the loss to losses\n",
    "    losses.append(loss)\n",
    "    \n",
    "    if epoch%10==0:\n",
    "        print(f\"epoch: {epoch}, loss: {loss:.3f}\")\n",
    "    \n",
    "    #clear the gradients\n",
    "    optimizer.zero_grad()\n",
    "    \n",
    "    #backpropogation\n",
    "    loss.backward()\n",
    "    \n",
    "    #update the weights\n",
    "    optimizer.step()\n",
    "    "
   ]
  },
  {
   "cell_type": "markdown",
   "id": "4cfea1ca",
   "metadata": {},
   "source": [
    "### plot error"
   ]
  },
  {
   "cell_type": "code",
   "execution_count": 44,
   "id": "f4fe463d",
   "metadata": {},
   "outputs": [
    {
     "data": {
      "image/png": "[encoded data removed]",
      "text/plain": [
       "<Figure size 640x480 with 1 Axes>"
      ]
     },
     "metadata": {},
     "output_type": "display_data"
    }
   ],
   "source": [
    "plt.plot(range(epochs), losses)\n",
    "plt.ylabel('RMSE Loss')\n",
    "plt.xlabel('epoch');"
   ]
  },
  {
   "cell_type": "markdown",
   "id": "eeb8d5b0",
   "metadata": {},
   "source": [
    "### validate- check test accuracy"
   ]
  },
  {
   "cell_type": "code",
   "execution_count": 46,
   "id": "e776056f",
   "metadata": {},
   "outputs": [
    {
     "name": "stdout",
     "output_type": "stream",
     "text": [
      "RMSE: 3.21793723\n"
     ]
    }
   ],
   "source": [
    "\n",
    "with torch.no_grad():\n",
    "    y_val = model(cat_test, cont_test)\n",
    "    loss = torch.sqrt(criterion(y_val, y_test))\n",
    "print(f'RMSE: {loss:.8f}')"
   ]
  },
  {
   "cell_type": "code",
   "execution_count": null,
   "id": "3c52eefa",
   "metadata": {},
   "outputs": [],
   "source": []
  },
  {
   "cell_type": "code",
   "execution_count": null,
   "id": "cde6645f",
   "metadata": {},
   "outputs": [],
   "source": []
  },
  {
   "cell_type": "code",
   "execution_count": null,
   "id": "82cbf06d",
   "metadata": {},
   "outputs": [],
   "source": []
  },
  {
   "cell_type": "code",
   "execution_count": null,
   "id": "4e5e13e9",
   "metadata": {},
   "outputs": [],
   "source": []
  },
  {
   "cell_type": "code",
   "execution_count": null,
   "id": "e194ae58",
   "metadata": {},
   "outputs": [],
   "source": []
  },
  {
   "cell_type": "code",
   "execution_count": null,
   "id": "2c6e03af",
   "metadata": {},
   "outputs": [],
   "source": []
  },
  {
   "cell_type": "code",
   "execution_count": null,
   "id": "5fb01e9a",
   "metadata": {},
   "outputs": [],
   "source": []
  },
  {
   "cell_type": "code",
   "execution_count": null,
   "id": "8b498579",
   "metadata": {},
   "outputs": [],
   "source": []
  },
  {
   "cell_type": "code",
   "execution_count": null,
   "id": "8c5e2495",
   "metadata": {},
   "outputs": [],
   "source": []
  },
  {
   "cell_type": "code",
   "execution_count": null,
   "id": "95a89cfe",
   "metadata": {},
   "outputs": [],
   "source": []
  },
  {
   "cell_type": "code",
   "execution_count": null,
   "id": "86da463b",
   "metadata": {},
   "outputs": [],
   "source": []
  },
  {
   "cell_type": "code",
   "execution_count": null,
   "id": "67bad478",
   "metadata": {},
   "outputs": [],
   "source": []
  },
  {
   "cell_type": "code",
   "execution_count": null,
   "id": "4a2efb0f",
   "metadata": {},
   "outputs": [],
   "source": []
  },
  {
   "cell_type": "code",
   "execution_count": null,
   "id": "f2e469b0",
   "metadata": {},
   "outputs": [],
   "source": []
  },
  {
   "cell_type": "code",
   "execution_count": null,
   "id": "08b3432f",
   "metadata": {},
   "outputs": [],
   "source": []
  },
  {
   "cell_type": "code",
   "execution_count": null,
   "id": "ae26d9f1",
   "metadata": {},
   "outputs": [],
   "source": []
  },
  {
   "cell_type": "code",
   "execution_count": null,
   "id": "f581f6d8",
   "metadata": {},
   "outputs": [],
   "source": []
  },
  {
   "cell_type": "code",
   "execution_count": null,
   "id": "85201655",
   "metadata": {},
   "outputs": [],
   "source": []
  },
  {
   "cell_type": "code",
   "execution_count": null,
   "id": "457b6408",
   "metadata": {},
   "outputs": [],
   "source": []
  },
  {
   "cell_type": "code",
   "execution_count": null,
   "id": "a8032268",
   "metadata": {},
   "outputs": [],
   "source": []
  },
  {
   "cell_type": "code",
   "execution_count": null,
   "id": "c347c781",
   "metadata": {},
   "outputs": [],
   "source": []
  }
 ],
 "metadata": {
  "kernelspec": {
   "display_name": "Python 3 (ipykernel)",
   "language": "python",
   "name": "python3"
  },
  "language_info": {
   "codemirror_mode": {
    "name": "ipython",
    "version": 3
   },
   "file_extension": ".py",
   "mimetype": "text/x-python",
   "name": "python",
   "nbconvert_exporter": "python",
   "pygments_lexer": "ipython3",
   "version": "3.7.3"
  }
 },
 "nbformat": 4,
 "nbformat_minor": 5
}
