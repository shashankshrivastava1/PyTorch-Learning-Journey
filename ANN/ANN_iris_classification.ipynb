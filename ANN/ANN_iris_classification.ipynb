{
 "cells": [
  {
   "cell_type": "code",
   "execution_count": 4,
   "id": "2f901e7b",
   "metadata": {},
   "outputs": [
    {
     "name": "stderr",
     "output_type": "stream",
     "text": [
      "C:\\Users\\shashan3\\Anaconda3\\envs\\pytorchenv\\lib\\site-packages\\sklearn\\utils\\validation.py:37: DeprecationWarning: distutils Version classes are deprecated. Use packaging.version instead.\n",
      "  LARGE_SPARSE_SUPPORTED = LooseVersion(scipy_version) >= '0.14.0'\n"
     ]
    }
   ],
   "source": [
    "import warnings\n",
    "\n",
    "warnings.filterwarnings('ignore')\n",
    "from torch import nn\n",
    "import torch \n",
    "from torch.utils.data import DataLoader, Dataset\n",
    "from torch.nn import functional as F\n",
    "from sklearn.model_selection import train_test_split\n",
    "\n",
    "import matplotlib.pyplot as plt\n",
    "import numpy as np\n",
    "import pandas as pd\n"
   ]
  },
  {
   "cell_type": "markdown",
   "id": "644030da",
   "metadata": {},
   "source": [
    "#### Load data and map it to torch data"
   ]
  },
  {
   "cell_type": "code",
   "execution_count": 5,
   "id": "05e41b10",
   "metadata": {},
   "outputs": [],
   "source": [
    "#load data\n",
    "df =pd.read_csv(\"../Data/iris.csv\")\n",
    "X = df.drop(\"target\",axis =1).values\n",
    "y = df[\"target\"].values\n",
    "\n",
    "#create test and train split\n",
    "X_train, X_test, y_train, y_test = train_test_split(X, y, test_size=0.33, random_state=42)\n",
    "\n",
    "#Map the data into tensor\n",
    "X_train = torch.FloatTensor(X_train)\n",
    "X_test = torch.FloatTensor(X_test)\n",
    "\n",
    "y_train= torch.LongTensor(y_train)\n",
    "y_test= torch.LongTensor(y_test)\n",
    "\n",
    "#prepare Dataloader\n",
    "train_loader = DataLoader (X_train, batch_size=60, shuffle=True)\n",
    "test_loader = DataLoader(X_test, batch_size=60, shuffle=False)"
   ]
  },
  {
   "cell_type": "markdown",
   "id": "d9b7ca41",
   "metadata": {},
   "source": [
    "### Create a model\n",
    "Since we have multiclass classification problem we should have atleast one hidden unit \n",
    "\n",
    "We will use <strong>ReLU</strong> as activation function that is available at torch.nn.ReLU or torch.nn.functional.relu"
   ]
  },
  {
   "cell_type": "code",
   "execution_count": 6,
   "id": "c745b085",
   "metadata": {},
   "outputs": [],
   "source": [
    "#model defination\n",
    "class Model(nn.Module):\n",
    "    def __init__(self, input_feature=4, h1=8,h2=9,out_feature=3):\n",
    "        super().__init__()\n",
    "        self.input_layer = nn.Linear(input_feature,h1)\n",
    "        self.hidden      = nn.Linear(h1,h2)\n",
    "        self.out         = nn.Linear(h2,out_feature)\n",
    "        \n",
    "    def forward(self,x):\n",
    "        x = F.relu(self.input_layer(x))\n",
    "        x = F.relu(self.hidden(x))\n",
    "        x = self.out(x)\n",
    "        return x"
   ]
  },
  {
   "cell_type": "markdown",
   "id": "411cde98",
   "metadata": {},
   "source": [
    "Define the Loss and optimizer\n",
    "\n",
    "we will take crossentropy as loss function and Adam as optimizer"
   ]
  },
  {
   "cell_type": "code",
   "execution_count": 7,
   "id": "d80ff232",
   "metadata": {},
   "outputs": [],
   "source": [
    "model = Model()\n",
    "criterion = nn.CrossEntropyLoss()\n",
    "optimizer = torch.optim.Adam(model.parameters(), lr=.01)"
   ]
  },
  {
   "cell_type": "code",
   "execution_count": 8,
   "id": "6a7715ec",
   "metadata": {},
   "outputs": [
    {
     "name": "stdout",
     "output_type": "stream",
     "text": [
      "Epoch 0 , loss: 1.10349536\n",
      "Epoch 1 , loss: 1.08320427\n",
      "Epoch 2 , loss: 1.06927633\n",
      "Epoch 3 , loss: 1.05434716\n",
      "Epoch 4 , loss: 1.03764009\n",
      "Epoch 5 , loss: 1.01975071\n",
      "Epoch 6 , loss: 1.00088382\n",
      "Epoch 7 , loss: 0.98227674\n",
      "Epoch 8 , loss: 0.96358544\n",
      "Epoch 9 , loss: 0.94425154\n",
      "Epoch 10, loss: 0.92423338\n",
      "Epoch 11, loss: 0.90318549\n",
      "Epoch 12, loss: 0.88074523\n",
      "Epoch 13, loss: 0.85723305\n",
      "Epoch 14, loss: 0.83505934\n",
      "Epoch 15, loss: 0.81548500\n",
      "Epoch 16, loss: 0.79907095\n",
      "Epoch 17, loss: 0.78243983\n",
      "Epoch 18, loss: 0.76597899\n",
      "Epoch 19, loss: 0.74923456\n",
      "Epoch 20, loss: 0.73203880\n",
      "Epoch 21, loss: 0.71450371\n",
      "Epoch 22, loss: 0.69697815\n",
      "Epoch 23, loss: 0.67960685\n",
      "Epoch 24, loss: 0.66198295\n",
      "Epoch 25, loss: 0.64397216\n",
      "Epoch 26, loss: 0.62559891\n",
      "Epoch 27, loss: 0.60680270\n",
      "Epoch 28, loss: 0.58751953\n",
      "Epoch 29, loss: 0.56810707\n",
      "Epoch 30, loss: 0.54872769\n",
      "Epoch 31, loss: 0.52957362\n",
      "Epoch 32, loss: 0.51092088\n",
      "Epoch 33, loss: 0.49290231\n",
      "Epoch 34, loss: 0.47550082\n",
      "Epoch 35, loss: 0.45873979\n",
      "Epoch 36, loss: 0.44264072\n",
      "Epoch 37, loss: 0.42716679\n",
      "Epoch 38, loss: 0.41202542\n",
      "Epoch 39, loss: 0.39704871\n",
      "Epoch 40, loss: 0.38219842\n",
      "Epoch 41, loss: 0.36738709\n",
      "Epoch 42, loss: 0.35261613\n",
      "Epoch 43, loss: 0.33793032\n",
      "Epoch 44, loss: 0.32329261\n",
      "Epoch 45, loss: 0.30869561\n",
      "Epoch 46, loss: 0.29420760\n",
      "Epoch 47, loss: 0.27982730\n",
      "Epoch 48, loss: 0.26562646\n",
      "Epoch 49, loss: 0.25173089\n",
      "Epoch 50, loss: 0.23820251\n",
      "Epoch 51, loss: 0.22516909\n",
      "Epoch 52, loss: 0.21268666\n",
      "Epoch 53, loss: 0.20082554\n",
      "Epoch 54, loss: 0.18965994\n",
      "Epoch 55, loss: 0.17920664\n",
      "Epoch 56, loss: 0.16947046\n",
      "Epoch 57, loss: 0.16042826\n",
      "Epoch 58, loss: 0.15210299\n",
      "Epoch 59, loss: 0.14444792\n",
      "Epoch 60, loss: 0.13745143\n",
      "Epoch 61, loss: 0.13104624\n",
      "Epoch 62, loss: 0.12519975\n",
      "Epoch 63, loss: 0.11984698\n",
      "Epoch 64, loss: 0.11495264\n",
      "Epoch 65, loss: 0.11046097\n",
      "Epoch 66, loss: 0.10634520\n",
      "Epoch 67, loss: 0.10256828\n",
      "Epoch 68, loss: 0.09910778\n",
      "Epoch 69, loss: 0.09593784\n",
      "Epoch 70, loss: 0.09303821\n",
      "Epoch 71, loss: 0.09038925\n",
      "Epoch 72, loss: 0.08796568\n",
      "Epoch 73, loss: 0.08575313\n",
      "Epoch 74, loss: 0.08372655\n",
      "Epoch 75, loss: 0.08186719\n",
      "Epoch 76, loss: 0.08015858\n",
      "Epoch 77, loss: 0.07859100\n",
      "Epoch 78, loss: 0.07715166\n",
      "Epoch 79, loss: 0.07582681\n",
      "Epoch 80, loss: 0.07460906\n",
      "Epoch 81, loss: 0.07348694\n",
      "Epoch 82, loss: 0.07245229\n",
      "Epoch 83, loss: 0.07149441\n",
      "Epoch 84, loss: 0.07060733\n",
      "Epoch 85, loss: 0.06978417\n",
      "Epoch 86, loss: 0.06901778\n",
      "Epoch 87, loss: 0.06830418\n",
      "Epoch 88, loss: 0.06763758\n",
      "Epoch 89, loss: 0.06701446\n",
      "Epoch 90, loss: 0.06643187\n",
      "Epoch 91, loss: 0.06588505\n",
      "Epoch 92, loss: 0.06537145\n",
      "Epoch 93, loss: 0.06488752\n",
      "Epoch 94, loss: 0.06443074\n",
      "Epoch 95, loss: 0.06399928\n",
      "Epoch 96, loss: 0.06359084\n",
      "Epoch 97, loss: 0.06320311\n",
      "Epoch 98, loss: 0.06283441\n",
      "Epoch 99, loss: 0.06248256\n"
     ]
    }
   ],
   "source": [
    "#define number of epochs\n",
    "epochs = 100\n",
    "losses = []\n",
    "for epoch in range(epochs):\n",
    "    #make prediction with current model weights\n",
    "    y_pred = model.forward(X_train)\n",
    "    #calculate loss\n",
    "    loss = criterion(y_pred,y_train)\n",
    "    #append the loss in losses list to plot later\n",
    "    losses.append(loss)\n",
    "    \n",
    "    #clear the previous accumulated gradients\n",
    "    optimizer.zero_grad()\n",
    "    \n",
    "    #backprop on the loss\n",
    "    loss.backward()\n",
    "    \n",
    "    #update the weights\n",
    "    optimizer.step()\n",
    "    print(f\"Epoch {str(epoch):2}, loss: {loss.item():10.8f}\")\n",
    "    "
   ]
  },
  {
   "cell_type": "markdown",
   "id": "b91181f5",
   "metadata": {},
   "source": [
    "plot the loss function"
   ]
  },
  {
   "cell_type": "code",
   "execution_count": 9,
   "id": "63892327",
   "metadata": {},
   "outputs": [
    {
     "data": {
      "text/plain": [
       "[<matplotlib.lines.Line2D at 0x1c7a814e668>]"
      ]
     },
     "execution_count": 9,
     "metadata": {},
     "output_type": "execute_result"
    },
    {
     "data": {
      "image/png": "[encoded data removed]",
      "text/plain": [
       "<Figure size 640x480 with 1 Axes>"
      ]
     },
     "metadata": {},
     "output_type": "display_data"
    }
   ],
   "source": [
    "plt.plot(range(epochs),losses)"
   ]
  },
  {
   "cell_type": "markdown",
   "id": "eaa61ac9",
   "metadata": {},
   "source": [
    "validate model"
   ]
  },
  {
   "cell_type": "code",
   "execution_count": 10,
   "id": "96b788d6",
   "metadata": {},
   "outputs": [
    {
     "name": "stdout",
     "output_type": "stream",
     "text": [
      "0.056\n"
     ]
    }
   ],
   "source": [
    "with torch.no_grad():\n",
    "    y_val = model.forward(X_test)\n",
    "    loss = criterion(y_val,y_test)\n",
    "print(f'{loss:.3f}')"
   ]
  },
  {
   "cell_type": "code",
   "execution_count": 11,
   "id": "71593908",
   "metadata": {},
   "outputs": [
    {
     "name": "stdout",
     "output_type": "stream",
     "text": [
      "Actual Predicted\n",
      "0.98% correct\n"
     ]
    }
   ],
   "source": [
    "correct =0\n",
    "print(f\"Actual Predicted\")\n",
    "with torch.no_grad():\n",
    "    for i, data in enumerate(X_test):\n",
    "        y_val = model.forward(data)\n",
    "#         print(f'{(y_test[i])}   {y_val.argmax().item():5}')\n",
    "        if (y_val.argmax().item() == y_test[i]):\n",
    "            correct+=1\n",
    "print(f'{correct/len(y_test)}% correct')"
   ]
  },
  {
   "cell_type": "markdown",
   "id": "879e81fc",
   "metadata": {},
   "source": [
    "save the model"
   ]
  },
  {
   "cell_type": "code",
   "execution_count": 12,
   "id": "734b7bb1",
   "metadata": {},
   "outputs": [
    {
     "name": "stdout",
     "output_type": "stream",
     "text": [
      "Parameter containing:\n",
      "tensor([[ 0.0809, -0.6593,  0.9702,  0.9609],\n",
      "        [-0.3954, -0.3450, -0.4221,  0.3916],\n",
      "        [ 0.7211,  0.6032,  0.5088, -0.0168],\n",
      "        [-0.4772,  0.0170, -0.0337, -0.0155],\n",
      "        [ 0.0976, -0.4221, -0.4198, -0.0320],\n",
      "        [ 0.9608,  0.2918, -0.7883, -0.8799],\n",
      "        [ 0.1803, -0.6689,  0.8295,  1.1147],\n",
      "        [-0.1375, -0.3483, -0.1008, -0.2111]], requires_grad=True)\n",
      "Parameter containing:\n",
      "tensor([-0.3954, -0.3751,  0.7389,  0.3157, -0.3002,  1.1680, -0.1944, -0.2043],\n",
      "       requires_grad=True)\n",
      "Parameter containing:\n",
      "tensor([[-0.3855, -0.1811,  0.6827, -0.2402, -0.2527,  0.5280, -0.3966, -0.0751],\n",
      "        [-0.1907,  0.2242, -0.0826,  0.2905,  0.1612, -0.3222,  0.1494,  0.1982],\n",
      "        [ 0.4662, -0.3212,  0.3077, -0.1807,  0.3431, -0.3562,  0.6775,  0.1006],\n",
      "        [ 0.1218, -0.0132,  0.0640, -0.0612, -0.1874, -0.2378, -0.1340,  0.0978],\n",
      "        [-0.1285, -0.0398, -0.1128,  0.1885, -0.1264, -0.0523, -0.3015,  0.2527],\n",
      "        [-0.1633, -0.1745, -0.3342,  0.1480,  0.3103,  0.2208, -0.3103, -0.1228],\n",
      "        [ 0.7717,  0.0189,  0.3890, -0.3190, -0.2396, -0.5916,  0.6019,  0.3329],\n",
      "        [ 0.7675, -0.1881, -0.1338, -0.3062, -0.1219, -1.0015,  0.8442,  0.0181],\n",
      "        [-0.5549, -0.2702,  0.9134, -0.3140,  0.2601,  0.8459, -0.0890,  0.2063]],\n",
      "       requires_grad=True)\n",
      "Parameter containing:\n",
      "tensor([ 0.3965, -0.2978, -0.2140, -0.3222,  0.2093,  0.1116, -0.1798, -0.4173,\n",
      "         0.9707], requires_grad=True)\n",
      "Parameter containing:\n",
      "tensor([[ 0.5892,  0.2371, -0.9316,  0.0197, -0.2177, -0.2832, -0.7438, -0.7236,\n",
      "          0.5837],\n",
      "        [ 0.0132, -0.2244,  0.3182, -0.3504,  0.2062,  0.2394, -0.0072, -0.6167,\n",
      "          0.5301],\n",
      "        [-0.6251, -0.0611,  0.5933,  0.0145,  0.0840,  0.2942,  0.7712,  0.7345,\n",
      "         -0.6207]], requires_grad=True)\n",
      "Parameter containing:\n",
      "tensor([ 0.3577, -0.2930, -0.7061], requires_grad=True)\n"
     ]
    }
   ],
   "source": [
    "model.eval()\n",
    "for i in model.parameters():\n",
    "    print(i)"
   ]
  },
  {
   "cell_type": "code",
   "execution_count": 13,
   "id": "fe7b9c5b",
   "metadata": {},
   "outputs": [
    {
     "name": "stdout",
     "output_type": "stream",
     "text": [
      "Parameter containing:\n",
      "tensor([[-0.0343,  0.2071, -0.1839,  0.0323],\n",
      "        [ 0.1895, -0.0561, -0.3418, -0.4337],\n",
      "        [-0.2372, -0.1995,  0.1135, -0.0096],\n",
      "        [-0.3415,  0.3719,  0.1733,  0.1971],\n",
      "        [ 0.0806, -0.1228, -0.3968,  0.2070],\n",
      "        [ 0.0433, -0.2886,  0.1269,  0.2600],\n",
      "        [-0.3701,  0.2552,  0.3245, -0.3818],\n",
      "        [-0.1385, -0.3516,  0.1010,  0.0242]], requires_grad=True)\n",
      "Parameter containing:\n",
      "tensor([-0.3055, -0.0411, -0.2708,  0.0314,  0.3590,  0.0468,  0.0650, -0.2470],\n",
      "       requires_grad=True)\n",
      "Parameter containing:\n",
      "tensor([[-7.9181e-02, -1.8687e-01,  8.2436e-02,  1.7928e-01,  2.7865e-01,\n",
      "         -9.7990e-05, -5.7424e-02, -6.6175e-02],\n",
      "        [-6.9486e-03, -2.9076e-01,  2.5778e-01,  1.6030e-01, -5.4176e-02,\n",
      "         -1.5177e-01,  2.3221e-01,  1.8736e-01],\n",
      "        [ 2.3010e-01,  3.3365e-01, -1.2667e-01,  2.9351e-01,  2.6114e-03,\n",
      "         -2.3340e-01, -2.8741e-01, -1.4192e-01],\n",
      "        [-3.3446e-01, -1.8964e-01,  9.5196e-02, -4.4884e-02,  9.0398e-02,\n",
      "          6.6902e-02, -2.5127e-02,  2.2923e-01],\n",
      "        [ 2.2166e-01,  2.7344e-01,  1.0838e-01, -3.4221e-01,  2.3762e-01,\n",
      "          2.1205e-01, -3.9820e-02, -2.9909e-01],\n",
      "        [-1.4142e-01,  2.0086e-01, -2.7880e-01,  9.9544e-02,  2.1138e-01,\n",
      "         -4.3125e-02, -2.3413e-01, -1.5262e-01],\n",
      "        [ 2.2070e-01, -5.2122e-02, -3.0601e-01,  3.0862e-01, -2.7325e-01,\n",
      "          3.6488e-02,  3.2989e-01, -1.3790e-01],\n",
      "        [-1.9456e-01,  1.7455e-01,  2.0638e-01, -1.3245e-01, -1.1161e-01,\n",
      "         -1.0268e-01,  1.4707e-01, -2.5057e-02],\n",
      "        [-2.1234e-01, -1.1443e-01, -3.1688e-01, -2.9547e-01,  3.2227e-01,\n",
      "         -1.4116e-01, -2.7917e-01, -2.4225e-02]], requires_grad=True)\n",
      "Parameter containing:\n",
      "tensor([-0.1669,  0.2349,  0.2036,  0.0806,  0.3120,  0.2164,  0.2554, -0.0414,\n",
      "        -0.1350], requires_grad=True)\n",
      "Parameter containing:\n",
      "tensor([[-0.1363, -0.0050, -0.2025,  0.0684,  0.0604,  0.1350, -0.0034, -0.1771,\n",
      "         -0.0956],\n",
      "        [-0.2038, -0.1049,  0.2150, -0.1220, -0.2059, -0.0507,  0.0897,  0.1532,\n",
      "          0.2367],\n",
      "        [-0.3321,  0.1219, -0.1868, -0.1950, -0.0625, -0.0257, -0.3332, -0.2311,\n",
      "         -0.2891]], requires_grad=True)\n",
      "Parameter containing:\n",
      "tensor([0.0397, 0.1613, 0.0124], requires_grad=True)\n"
     ]
    }
   ],
   "source": [
    "new_model = Model()\n",
    "new_model.eval()\n",
    "for i in new_model.parameters():\n",
    "    print(i)"
   ]
  },
  {
   "cell_type": "code",
   "execution_count": 14,
   "id": "a461bfd9",
   "metadata": {},
   "outputs": [],
   "source": [
    "torch.save(model,\"irisClassifier\")"
   ]
  },
  {
   "cell_type": "code",
   "execution_count": 15,
   "id": "2b0ad354",
   "metadata": {},
   "outputs": [],
   "source": [
    "import torch\n",
    "model_loaded = torch.load(\"irisClassifier\")"
   ]
  },
  {
   "cell_type": "code",
   "execution_count": 16,
   "id": "c151348a",
   "metadata": {},
   "outputs": [
    {
     "data": {
      "text/plain": [
       "Model(\n",
       "  (input_layer): Linear(in_features=4, out_features=8, bias=True)\n",
       "  (hidden): Linear(in_features=8, out_features=9, bias=True)\n",
       "  (out): Linear(in_features=9, out_features=3, bias=True)\n",
       ")"
      ]
     },
     "execution_count": 16,
     "metadata": {},
     "output_type": "execute_result"
    }
   ],
   "source": [
    "model_loaded.eval()"
   ]
  },
  {
   "cell_type": "code",
   "execution_count": 17,
   "id": "89340b44",
   "metadata": {},
   "outputs": [
    {
     "name": "stdout",
     "output_type": "stream",
     "text": [
      "Actual Predicted\n",
      "0.98% correct\n"
     ]
    }
   ],
   "source": [
    "correct =0\n",
    "print(f\"Actual Predicted\")\n",
    "with torch.no_grad():\n",
    "    for i, data in enumerate(X_test):\n",
    "        y_val = model_loaded.forward(data)\n",
    "#         print(f'{(y_test[i])}   {y_val.argmax().item():5}')\n",
    "        if (y_val.argmax().item() == y_test[i]):\n",
    "            correct+=1\n",
    "print(f'{correct/len(y_test)}% correct')"
   ]
  },
  {
   "cell_type": "code",
   "execution_count": 18,
   "id": "abd9544c",
   "metadata": {},
   "outputs": [
    {
     "data": {
      "text/plain": [
       "Model(\n",
       "  (input_layer): Linear(in_features=4, out_features=8, bias=True)\n",
       "  (hidden): Linear(in_features=8, out_features=9, bias=True)\n",
       "  (out): Linear(in_features=9, out_features=3, bias=True)\n",
       ")"
      ]
     },
     "execution_count": 18,
     "metadata": {},
     "output_type": "execute_result"
    }
   ],
   "source": [
    "model\n"
   ]
  }
 ],
 "metadata": {
  "kernelspec": {
   "display_name": "Python 3 (ipykernel)",
   "language": "python",
   "name": "python3"
  },
  "language_info": {
   "codemirror_mode": {
    "name": "ipython",
    "version": 3
   },
   "file_extension": ".py",
   "mimetype": "text/x-python",
   "name": "python",
   "nbconvert_exporter": "python",
   "pygments_lexer": "ipython3",
   "version": "3.7.3"
  }
 },
 "nbformat": 4,
 "nbformat_minor": 5
}
